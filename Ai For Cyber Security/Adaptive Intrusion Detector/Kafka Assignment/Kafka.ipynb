{
  "nbformat": 4,
  "nbformat_minor": 0,
  "metadata": {
    "colab": {
      "name": "Kafka.ipynb",
      "provenance": [],
      "collapsed_sections": []
    },
    "kernelspec": {
      "display_name": "Python 3",
      "name": "python3"
    },
    "language_info": {
      "name": "python"
    }
  },
  "cells": [
    {
      "cell_type": "code",
      "metadata": {
        "id": "SEBYCB_dkMCw"
      },
      "source": [
        "import numpy as np\n",
        "import pandas as pd\n",
        "\n",
        "from sklearn.preprocessing import StandardScaler\n",
        "from sklearn.model_selection import train_test_split\n",
        "from sklearn.ensemble import RandomForestClassifier\n",
        "from sklearn.metrics import precision_recall_fscore_support\n",
        "from sklearn.metrics import classification_report\n",
        "from sklearn.ensemble import AdaBoostClassifier\n",
        "from sklearn.model_selection import GridSearchCV\n",
        "from matplotlib.pyplot import figure\n",
        "\n",
        "import matplotlib.pyplot as plt\n",
        "\n",
        "import json\n",
        "import re\n",
        "import time\n",
        "from copy import deepcopy\n",
        "\n"
      ],
      "execution_count": 1,
      "outputs": []
    },
    {
      "cell_type": "code",
      "metadata": {
        "colab": {
          "base_uri": "https://localhost:8080/"
        },
        "id": "IV7T5bokcAvO",
        "outputId": "c33dc670-4b80-4207-f3ef-314f2e62e8a4"
      },
      "source": [
        "!pip install kafka-python"
      ],
      "execution_count": 2,
      "outputs": [
        {
          "output_type": "stream",
          "name": "stdout",
          "text": [
            "Requirement already satisfied: kafka-python in /usr/local/lib/python3.7/dist-packages (2.0.2)\n"
          ]
        }
      ]
    },
    {
      "cell_type": "code",
      "metadata": {
        "id": "bfib26D1cBSW"
      },
      "source": [
        "# Import the python Consumer Client for Kafka\n",
        "from kafka import KafkaConsumer"
      ],
      "execution_count": 3,
      "outputs": []
    },
    {
      "cell_type": "markdown",
      "metadata": {
        "id": "Lq8A8Yyzzso1"
      },
      "source": [
        "# Problem 1"
      ]
    },
    {
      "cell_type": "markdown",
      "metadata": {
        "id": "-9Xdk2Z0k2lc"
      },
      "source": [
        "## Static"
      ]
    },
    {
      "cell_type": "markdown",
      "metadata": {
        "id": "bj00o3G_Rqg0"
      },
      "source": [
        "## Reading and preprocessing "
      ]
    },
    {
      "cell_type": "markdown",
      "metadata": {
        "id": "YVbMo4lQR4l0"
      },
      "source": [
        "Read the data"
      ]
    },
    {
      "cell_type": "code",
      "metadata": {
        "id": "Y5IsJkyAkQZh"
      },
      "source": [
        "cic = pd.read_csv('/content/drive/MyDrive/AIforCS/Kafka/cicids_static_data.csv')"
      ],
      "execution_count": 4,
      "outputs": []
    },
    {
      "cell_type": "code",
      "metadata": {
        "colab": {
          "base_uri": "https://localhost:8080/"
        },
        "id": "ZdnqbnF0kaof",
        "outputId": "aa0af644-adb4-42f3-b341-c7f3e48a0e55"
      },
      "source": [
        "cic.info()"
      ],
      "execution_count": 5,
      "outputs": [
        {
          "output_type": "stream",
          "name": "stdout",
          "text": [
            "<class 'pandas.core.frame.DataFrame'>\n",
            "RangeIndex: 25191 entries, 0 to 25190\n",
            "Data columns (total 79 columns):\n",
            " #   Column                        Non-Null Count  Dtype  \n",
            "---  ------                        --------------  -----  \n",
            " 0    Destination Port             25191 non-null  int64  \n",
            " 1    Flow Duration                25191 non-null  int64  \n",
            " 2    Total Fwd Packets            25191 non-null  int64  \n",
            " 3    Total Backward Packets       25191 non-null  int64  \n",
            " 4   Total Length of Fwd Packets   25191 non-null  int64  \n",
            " 5    Total Length of Bwd Packets  25191 non-null  int64  \n",
            " 6    Fwd Packet Length Max        25191 non-null  int64  \n",
            " 7    Fwd Packet Length Min        25191 non-null  int64  \n",
            " 8    Fwd Packet Length Mean       25191 non-null  float64\n",
            " 9    Fwd Packet Length Std        25191 non-null  float64\n",
            " 10  Bwd Packet Length Max         25191 non-null  int64  \n",
            " 11   Bwd Packet Length Min        25191 non-null  int64  \n",
            " 12   Bwd Packet Length Mean       25191 non-null  float64\n",
            " 13   Bwd Packet Length Std        25191 non-null  float64\n",
            " 14  Flow Bytes/s                  25185 non-null  float64\n",
            " 15   Flow Packets/s               25191 non-null  float64\n",
            " 16   Flow IAT Mean                25191 non-null  float64\n",
            " 17   Flow IAT Std                 25191 non-null  float64\n",
            " 18   Flow IAT Max                 25191 non-null  int64  \n",
            " 19   Flow IAT Min                 25191 non-null  int64  \n",
            " 20  Fwd IAT Total                 25191 non-null  int64  \n",
            " 21   Fwd IAT Mean                 25191 non-null  float64\n",
            " 22   Fwd IAT Std                  25191 non-null  float64\n",
            " 23   Fwd IAT Max                  25191 non-null  int64  \n",
            " 24   Fwd IAT Min                  25191 non-null  int64  \n",
            " 25  Bwd IAT Total                 25191 non-null  int64  \n",
            " 26   Bwd IAT Mean                 25191 non-null  float64\n",
            " 27   Bwd IAT Std                  25191 non-null  float64\n",
            " 28   Bwd IAT Max                  25191 non-null  int64  \n",
            " 29   Bwd IAT Min                  25191 non-null  int64  \n",
            " 30  Fwd PSH Flags                 25191 non-null  int64  \n",
            " 31   Bwd PSH Flags                25191 non-null  int64  \n",
            " 32   Fwd URG Flags                25191 non-null  int64  \n",
            " 33   Bwd URG Flags                25191 non-null  int64  \n",
            " 34   Fwd Header Length            25191 non-null  int64  \n",
            " 35   Bwd Header Length            25191 non-null  int64  \n",
            " 36  Fwd Packets/s                 25191 non-null  float64\n",
            " 37   Bwd Packets/s                25191 non-null  float64\n",
            " 38   Min Packet Length            25191 non-null  int64  \n",
            " 39   Max Packet Length            25191 non-null  int64  \n",
            " 40   Packet Length Mean           25191 non-null  float64\n",
            " 41   Packet Length Std            25191 non-null  float64\n",
            " 42   Packet Length Variance       25191 non-null  float64\n",
            " 43  FIN Flag Count                25191 non-null  int64  \n",
            " 44   SYN Flag Count               25191 non-null  int64  \n",
            " 45   RST Flag Count               25191 non-null  int64  \n",
            " 46   PSH Flag Count               25191 non-null  int64  \n",
            " 47   ACK Flag Count               25191 non-null  int64  \n",
            " 48   URG Flag Count               25191 non-null  int64  \n",
            " 49   CWE Flag Count               25191 non-null  int64  \n",
            " 50   ECE Flag Count               25191 non-null  int64  \n",
            " 51   Down/Up Ratio                25191 non-null  int64  \n",
            " 52   Average Packet Size          25191 non-null  float64\n",
            " 53   Avg Fwd Segment Size         25191 non-null  float64\n",
            " 54   Avg Bwd Segment Size         25191 non-null  float64\n",
            " 55   Fwd Header Length.1          25191 non-null  int64  \n",
            " 56  Fwd Avg Bytes/Bulk            25191 non-null  int64  \n",
            " 57   Fwd Avg Packets/Bulk         25191 non-null  int64  \n",
            " 58   Fwd Avg Bulk Rate            25191 non-null  int64  \n",
            " 59   Bwd Avg Bytes/Bulk           25191 non-null  int64  \n",
            " 60   Bwd Avg Packets/Bulk         25191 non-null  int64  \n",
            " 61  Bwd Avg Bulk Rate             25191 non-null  int64  \n",
            " 62  Subflow Fwd Packets           25191 non-null  int64  \n",
            " 63   Subflow Fwd Bytes            25191 non-null  int64  \n",
            " 64   Subflow Bwd Packets          25191 non-null  int64  \n",
            " 65   Subflow Bwd Bytes            25191 non-null  int64  \n",
            " 66  Init_Win_bytes_forward        25191 non-null  int64  \n",
            " 67   Init_Win_bytes_backward      25191 non-null  int64  \n",
            " 68   act_data_pkt_fwd             25191 non-null  int64  \n",
            " 69   min_seg_size_forward         25191 non-null  int64  \n",
            " 70  Active Mean                   25191 non-null  float64\n",
            " 71   Active Std                   25191 non-null  float64\n",
            " 72   Active Max                   25191 non-null  int64  \n",
            " 73   Active Min                   25191 non-null  int64  \n",
            " 74  Idle Mean                     25191 non-null  float64\n",
            " 75   Idle Std                     25191 non-null  float64\n",
            " 76   Idle Max                     25191 non-null  int64  \n",
            " 77   Idle Min                     25191 non-null  int64  \n",
            " 78  Label                         25191 non-null  object \n",
            "dtypes: float64(24), int64(54), object(1)\n",
            "memory usage: 15.2+ MB\n"
          ]
        }
      ]
    },
    {
      "cell_type": "code",
      "metadata": {
        "id": "YIzrKx50tVQX"
      },
      "source": [
        "cic = cic.replace([-np.inf,np.inf], np.nan).dropna()"
      ],
      "execution_count": 6,
      "outputs": []
    },
    {
      "cell_type": "markdown",
      "metadata": {
        "id": "ZsWYrJAPXAmW"
      },
      "source": [
        "Ecoding the Label"
      ]
    },
    {
      "cell_type": "code",
      "metadata": {
        "id": "VTLmp4rNt_jH"
      },
      "source": [
        "cic['Label'] = cic['Label'].map({'ATTACK':1, 'BENIGN':0})"
      ],
      "execution_count": 7,
      "outputs": []
    },
    {
      "cell_type": "code",
      "metadata": {
        "id": "1mqiSYNmmJEg"
      },
      "source": [
        "y = cic['Label']\n",
        "X = cic.drop('Label',axis=1)"
      ],
      "execution_count": 8,
      "outputs": []
    },
    {
      "cell_type": "code",
      "metadata": {
        "colab": {
          "base_uri": "https://localhost:8080/",
          "height": 435
        },
        "id": "6BDxy7zbpCCH",
        "outputId": "538156f0-d897-412f-e101-3eeb7c923fcf"
      },
      "source": [
        "X.head(10)"
      ],
      "execution_count": 9,
      "outputs": [
        {
          "output_type": "execute_result",
          "data": {
            "text/html": [
              "<div>\n",
              "<style scoped>\n",
              "    .dataframe tbody tr th:only-of-type {\n",
              "        vertical-align: middle;\n",
              "    }\n",
              "\n",
              "    .dataframe tbody tr th {\n",
              "        vertical-align: top;\n",
              "    }\n",
              "\n",
              "    .dataframe thead th {\n",
              "        text-align: right;\n",
              "    }\n",
              "</style>\n",
              "<table border=\"1\" class=\"dataframe\">\n",
              "  <thead>\n",
              "    <tr style=\"text-align: right;\">\n",
              "      <th></th>\n",
              "      <th>Destination Port</th>\n",
              "      <th>Flow Duration</th>\n",
              "      <th>Total Fwd Packets</th>\n",
              "      <th>Total Backward Packets</th>\n",
              "      <th>Total Length of Fwd Packets</th>\n",
              "      <th>Total Length of Bwd Packets</th>\n",
              "      <th>Fwd Packet Length Max</th>\n",
              "      <th>Fwd Packet Length Min</th>\n",
              "      <th>Fwd Packet Length Mean</th>\n",
              "      <th>Fwd Packet Length Std</th>\n",
              "      <th>Bwd Packet Length Max</th>\n",
              "      <th>Bwd Packet Length Min</th>\n",
              "      <th>Bwd Packet Length Mean</th>\n",
              "      <th>Bwd Packet Length Std</th>\n",
              "      <th>Flow Bytes/s</th>\n",
              "      <th>Flow Packets/s</th>\n",
              "      <th>Flow IAT Mean</th>\n",
              "      <th>Flow IAT Std</th>\n",
              "      <th>Flow IAT Max</th>\n",
              "      <th>Flow IAT Min</th>\n",
              "      <th>Fwd IAT Total</th>\n",
              "      <th>Fwd IAT Mean</th>\n",
              "      <th>Fwd IAT Std</th>\n",
              "      <th>Fwd IAT Max</th>\n",
              "      <th>Fwd IAT Min</th>\n",
              "      <th>Bwd IAT Total</th>\n",
              "      <th>Bwd IAT Mean</th>\n",
              "      <th>Bwd IAT Std</th>\n",
              "      <th>Bwd IAT Max</th>\n",
              "      <th>Bwd IAT Min</th>\n",
              "      <th>Fwd PSH Flags</th>\n",
              "      <th>Bwd PSH Flags</th>\n",
              "      <th>Fwd URG Flags</th>\n",
              "      <th>Bwd URG Flags</th>\n",
              "      <th>Fwd Header Length</th>\n",
              "      <th>Bwd Header Length</th>\n",
              "      <th>Fwd Packets/s</th>\n",
              "      <th>Bwd Packets/s</th>\n",
              "      <th>Min Packet Length</th>\n",
              "      <th>Max Packet Length</th>\n",
              "      <th>Packet Length Mean</th>\n",
              "      <th>Packet Length Std</th>\n",
              "      <th>Packet Length Variance</th>\n",
              "      <th>FIN Flag Count</th>\n",
              "      <th>SYN Flag Count</th>\n",
              "      <th>RST Flag Count</th>\n",
              "      <th>PSH Flag Count</th>\n",
              "      <th>ACK Flag Count</th>\n",
              "      <th>URG Flag Count</th>\n",
              "      <th>CWE Flag Count</th>\n",
              "      <th>ECE Flag Count</th>\n",
              "      <th>Down/Up Ratio</th>\n",
              "      <th>Average Packet Size</th>\n",
              "      <th>Avg Fwd Segment Size</th>\n",
              "      <th>Avg Bwd Segment Size</th>\n",
              "      <th>Fwd Header Length.1</th>\n",
              "      <th>Fwd Avg Bytes/Bulk</th>\n",
              "      <th>Fwd Avg Packets/Bulk</th>\n",
              "      <th>Fwd Avg Bulk Rate</th>\n",
              "      <th>Bwd Avg Bytes/Bulk</th>\n",
              "      <th>Bwd Avg Packets/Bulk</th>\n",
              "      <th>Bwd Avg Bulk Rate</th>\n",
              "      <th>Subflow Fwd Packets</th>\n",
              "      <th>Subflow Fwd Bytes</th>\n",
              "      <th>Subflow Bwd Packets</th>\n",
              "      <th>Subflow Bwd Bytes</th>\n",
              "      <th>Init_Win_bytes_forward</th>\n",
              "      <th>Init_Win_bytes_backward</th>\n",
              "      <th>act_data_pkt_fwd</th>\n",
              "      <th>min_seg_size_forward</th>\n",
              "      <th>Active Mean</th>\n",
              "      <th>Active Std</th>\n",
              "      <th>Active Max</th>\n",
              "      <th>Active Min</th>\n",
              "      <th>Idle Mean</th>\n",
              "      <th>Idle Std</th>\n",
              "      <th>Idle Max</th>\n",
              "      <th>Idle Min</th>\n",
              "    </tr>\n",
              "  </thead>\n",
              "  <tbody>\n",
              "    <tr>\n",
              "      <th>0</th>\n",
              "      <td>53</td>\n",
              "      <td>159</td>\n",
              "      <td>2</td>\n",
              "      <td>2</td>\n",
              "      <td>68</td>\n",
              "      <td>266</td>\n",
              "      <td>34</td>\n",
              "      <td>34</td>\n",
              "      <td>34.000000</td>\n",
              "      <td>0.000000</td>\n",
              "      <td>133</td>\n",
              "      <td>133</td>\n",
              "      <td>133.000000</td>\n",
              "      <td>0.000000</td>\n",
              "      <td>2.100629e+06</td>\n",
              "      <td>25157.232700</td>\n",
              "      <td>5.300000e+01</td>\n",
              "      <td>9.006664e+01</td>\n",
              "      <td>157</td>\n",
              "      <td>1</td>\n",
              "      <td>1</td>\n",
              "      <td>1.000000e+00</td>\n",
              "      <td>0.000000e+00</td>\n",
              "      <td>1</td>\n",
              "      <td>1</td>\n",
              "      <td>1</td>\n",
              "      <td>1.000000e+00</td>\n",
              "      <td>0.000000e+00</td>\n",
              "      <td>1</td>\n",
              "      <td>1</td>\n",
              "      <td>0</td>\n",
              "      <td>0</td>\n",
              "      <td>0</td>\n",
              "      <td>0</td>\n",
              "      <td>40</td>\n",
              "      <td>40</td>\n",
              "      <td>12578.616350</td>\n",
              "      <td>12578.616350</td>\n",
              "      <td>34</td>\n",
              "      <td>133</td>\n",
              "      <td>73.600000</td>\n",
              "      <td>54.224533</td>\n",
              "      <td>2.940300e+03</td>\n",
              "      <td>0</td>\n",
              "      <td>0</td>\n",
              "      <td>0</td>\n",
              "      <td>0</td>\n",
              "      <td>0</td>\n",
              "      <td>0</td>\n",
              "      <td>0</td>\n",
              "      <td>0</td>\n",
              "      <td>1</td>\n",
              "      <td>92.000000</td>\n",
              "      <td>34.000000</td>\n",
              "      <td>133.000000</td>\n",
              "      <td>40</td>\n",
              "      <td>0</td>\n",
              "      <td>0</td>\n",
              "      <td>0</td>\n",
              "      <td>0</td>\n",
              "      <td>0</td>\n",
              "      <td>0</td>\n",
              "      <td>2</td>\n",
              "      <td>68</td>\n",
              "      <td>2</td>\n",
              "      <td>266</td>\n",
              "      <td>-1</td>\n",
              "      <td>-1</td>\n",
              "      <td>1</td>\n",
              "      <td>20</td>\n",
              "      <td>0.0</td>\n",
              "      <td>0.0</td>\n",
              "      <td>0</td>\n",
              "      <td>0</td>\n",
              "      <td>0.0</td>\n",
              "      <td>0.0</td>\n",
              "      <td>0</td>\n",
              "      <td>0</td>\n",
              "    </tr>\n",
              "    <tr>\n",
              "      <th>1</th>\n",
              "      <td>53</td>\n",
              "      <td>51673</td>\n",
              "      <td>2</td>\n",
              "      <td>2</td>\n",
              "      <td>90</td>\n",
              "      <td>166</td>\n",
              "      <td>45</td>\n",
              "      <td>45</td>\n",
              "      <td>45.000000</td>\n",
              "      <td>0.000000</td>\n",
              "      <td>83</td>\n",
              "      <td>83</td>\n",
              "      <td>83.000000</td>\n",
              "      <td>0.000000</td>\n",
              "      <td>4.954231e+03</td>\n",
              "      <td>77.409866</td>\n",
              "      <td>1.722433e+04</td>\n",
              "      <td>2.982736e+04</td>\n",
              "      <td>51666</td>\n",
              "      <td>3</td>\n",
              "      <td>4</td>\n",
              "      <td>4.000000e+00</td>\n",
              "      <td>0.000000e+00</td>\n",
              "      <td>4</td>\n",
              "      <td>4</td>\n",
              "      <td>3</td>\n",
              "      <td>3.000000e+00</td>\n",
              "      <td>0.000000e+00</td>\n",
              "      <td>3</td>\n",
              "      <td>3</td>\n",
              "      <td>0</td>\n",
              "      <td>0</td>\n",
              "      <td>0</td>\n",
              "      <td>0</td>\n",
              "      <td>64</td>\n",
              "      <td>64</td>\n",
              "      <td>38.704933</td>\n",
              "      <td>38.704933</td>\n",
              "      <td>45</td>\n",
              "      <td>83</td>\n",
              "      <td>60.200000</td>\n",
              "      <td>20.813457</td>\n",
              "      <td>4.332000e+02</td>\n",
              "      <td>0</td>\n",
              "      <td>0</td>\n",
              "      <td>0</td>\n",
              "      <td>0</td>\n",
              "      <td>0</td>\n",
              "      <td>0</td>\n",
              "      <td>0</td>\n",
              "      <td>0</td>\n",
              "      <td>1</td>\n",
              "      <td>75.250000</td>\n",
              "      <td>45.000000</td>\n",
              "      <td>83.000000</td>\n",
              "      <td>64</td>\n",
              "      <td>0</td>\n",
              "      <td>0</td>\n",
              "      <td>0</td>\n",
              "      <td>0</td>\n",
              "      <td>0</td>\n",
              "      <td>0</td>\n",
              "      <td>2</td>\n",
              "      <td>90</td>\n",
              "      <td>2</td>\n",
              "      <td>166</td>\n",
              "      <td>-1</td>\n",
              "      <td>-1</td>\n",
              "      <td>1</td>\n",
              "      <td>32</td>\n",
              "      <td>0.0</td>\n",
              "      <td>0.0</td>\n",
              "      <td>0</td>\n",
              "      <td>0</td>\n",
              "      <td>0.0</td>\n",
              "      <td>0.0</td>\n",
              "      <td>0</td>\n",
              "      <td>0</td>\n",
              "    </tr>\n",
              "    <tr>\n",
              "      <th>2</th>\n",
              "      <td>7496</td>\n",
              "      <td>43</td>\n",
              "      <td>1</td>\n",
              "      <td>1</td>\n",
              "      <td>0</td>\n",
              "      <td>6</td>\n",
              "      <td>0</td>\n",
              "      <td>0</td>\n",
              "      <td>0.000000</td>\n",
              "      <td>0.000000</td>\n",
              "      <td>6</td>\n",
              "      <td>6</td>\n",
              "      <td>6.000000</td>\n",
              "      <td>0.000000</td>\n",
              "      <td>1.395349e+05</td>\n",
              "      <td>46511.627910</td>\n",
              "      <td>4.300000e+01</td>\n",
              "      <td>0.000000e+00</td>\n",
              "      <td>43</td>\n",
              "      <td>43</td>\n",
              "      <td>0</td>\n",
              "      <td>0.000000e+00</td>\n",
              "      <td>0.000000e+00</td>\n",
              "      <td>0</td>\n",
              "      <td>0</td>\n",
              "      <td>0</td>\n",
              "      <td>0.000000e+00</td>\n",
              "      <td>0.000000e+00</td>\n",
              "      <td>0</td>\n",
              "      <td>0</td>\n",
              "      <td>0</td>\n",
              "      <td>0</td>\n",
              "      <td>0</td>\n",
              "      <td>0</td>\n",
              "      <td>40</td>\n",
              "      <td>20</td>\n",
              "      <td>23255.813950</td>\n",
              "      <td>23255.813950</td>\n",
              "      <td>0</td>\n",
              "      <td>6</td>\n",
              "      <td>2.000000</td>\n",
              "      <td>3.464102</td>\n",
              "      <td>1.200000e+01</td>\n",
              "      <td>0</td>\n",
              "      <td>0</td>\n",
              "      <td>0</td>\n",
              "      <td>1</td>\n",
              "      <td>0</td>\n",
              "      <td>0</td>\n",
              "      <td>0</td>\n",
              "      <td>0</td>\n",
              "      <td>1</td>\n",
              "      <td>3.000000</td>\n",
              "      <td>0.000000</td>\n",
              "      <td>6.000000</td>\n",
              "      <td>40</td>\n",
              "      <td>0</td>\n",
              "      <td>0</td>\n",
              "      <td>0</td>\n",
              "      <td>0</td>\n",
              "      <td>0</td>\n",
              "      <td>0</td>\n",
              "      <td>1</td>\n",
              "      <td>0</td>\n",
              "      <td>1</td>\n",
              "      <td>6</td>\n",
              "      <td>29200</td>\n",
              "      <td>0</td>\n",
              "      <td>0</td>\n",
              "      <td>40</td>\n",
              "      <td>0.0</td>\n",
              "      <td>0.0</td>\n",
              "      <td>0</td>\n",
              "      <td>0</td>\n",
              "      <td>0.0</td>\n",
              "      <td>0.0</td>\n",
              "      <td>0</td>\n",
              "      <td>0</td>\n",
              "    </tr>\n",
              "    <tr>\n",
              "      <th>3</th>\n",
              "      <td>46564</td>\n",
              "      <td>61</td>\n",
              "      <td>1</td>\n",
              "      <td>1</td>\n",
              "      <td>6</td>\n",
              "      <td>6</td>\n",
              "      <td>6</td>\n",
              "      <td>6</td>\n",
              "      <td>6.000000</td>\n",
              "      <td>0.000000</td>\n",
              "      <td>6</td>\n",
              "      <td>6</td>\n",
              "      <td>6.000000</td>\n",
              "      <td>0.000000</td>\n",
              "      <td>1.967213e+05</td>\n",
              "      <td>32786.885250</td>\n",
              "      <td>6.100000e+01</td>\n",
              "      <td>0.000000e+00</td>\n",
              "      <td>61</td>\n",
              "      <td>61</td>\n",
              "      <td>0</td>\n",
              "      <td>0.000000e+00</td>\n",
              "      <td>0.000000e+00</td>\n",
              "      <td>0</td>\n",
              "      <td>0</td>\n",
              "      <td>0</td>\n",
              "      <td>0.000000e+00</td>\n",
              "      <td>0.000000e+00</td>\n",
              "      <td>0</td>\n",
              "      <td>0</td>\n",
              "      <td>0</td>\n",
              "      <td>0</td>\n",
              "      <td>0</td>\n",
              "      <td>0</td>\n",
              "      <td>20</td>\n",
              "      <td>20</td>\n",
              "      <td>16393.442620</td>\n",
              "      <td>16393.442620</td>\n",
              "      <td>6</td>\n",
              "      <td>6</td>\n",
              "      <td>6.000000</td>\n",
              "      <td>0.000000</td>\n",
              "      <td>0.000000e+00</td>\n",
              "      <td>0</td>\n",
              "      <td>0</td>\n",
              "      <td>0</td>\n",
              "      <td>0</td>\n",
              "      <td>1</td>\n",
              "      <td>1</td>\n",
              "      <td>0</td>\n",
              "      <td>0</td>\n",
              "      <td>1</td>\n",
              "      <td>9.000000</td>\n",
              "      <td>6.000000</td>\n",
              "      <td>6.000000</td>\n",
              "      <td>20</td>\n",
              "      <td>0</td>\n",
              "      <td>0</td>\n",
              "      <td>0</td>\n",
              "      <td>0</td>\n",
              "      <td>0</td>\n",
              "      <td>0</td>\n",
              "      <td>1</td>\n",
              "      <td>6</td>\n",
              "      <td>1</td>\n",
              "      <td>6</td>\n",
              "      <td>440</td>\n",
              "      <td>307</td>\n",
              "      <td>0</td>\n",
              "      <td>20</td>\n",
              "      <td>0.0</td>\n",
              "      <td>0.0</td>\n",
              "      <td>0</td>\n",
              "      <td>0</td>\n",
              "      <td>0.0</td>\n",
              "      <td>0.0</td>\n",
              "      <td>0</td>\n",
              "      <td>0</td>\n",
              "    </tr>\n",
              "    <tr>\n",
              "      <th>4</th>\n",
              "      <td>80</td>\n",
              "      <td>69</td>\n",
              "      <td>2</td>\n",
              "      <td>0</td>\n",
              "      <td>0</td>\n",
              "      <td>0</td>\n",
              "      <td>0</td>\n",
              "      <td>0</td>\n",
              "      <td>0.000000</td>\n",
              "      <td>0.000000</td>\n",
              "      <td>0</td>\n",
              "      <td>0</td>\n",
              "      <td>0.000000</td>\n",
              "      <td>0.000000</td>\n",
              "      <td>0.000000e+00</td>\n",
              "      <td>28985.507250</td>\n",
              "      <td>6.900000e+01</td>\n",
              "      <td>0.000000e+00</td>\n",
              "      <td>69</td>\n",
              "      <td>69</td>\n",
              "      <td>69</td>\n",
              "      <td>6.900000e+01</td>\n",
              "      <td>0.000000e+00</td>\n",
              "      <td>69</td>\n",
              "      <td>69</td>\n",
              "      <td>0</td>\n",
              "      <td>0.000000e+00</td>\n",
              "      <td>0.000000e+00</td>\n",
              "      <td>0</td>\n",
              "      <td>0</td>\n",
              "      <td>0</td>\n",
              "      <td>0</td>\n",
              "      <td>0</td>\n",
              "      <td>0</td>\n",
              "      <td>40</td>\n",
              "      <td>0</td>\n",
              "      <td>28985.507250</td>\n",
              "      <td>0.000000</td>\n",
              "      <td>0</td>\n",
              "      <td>0</td>\n",
              "      <td>0.000000</td>\n",
              "      <td>0.000000</td>\n",
              "      <td>0.000000e+00</td>\n",
              "      <td>0</td>\n",
              "      <td>0</td>\n",
              "      <td>0</td>\n",
              "      <td>0</td>\n",
              "      <td>1</td>\n",
              "      <td>0</td>\n",
              "      <td>0</td>\n",
              "      <td>0</td>\n",
              "      <td>0</td>\n",
              "      <td>0.000000</td>\n",
              "      <td>0.000000</td>\n",
              "      <td>0.000000</td>\n",
              "      <td>40</td>\n",
              "      <td>0</td>\n",
              "      <td>0</td>\n",
              "      <td>0</td>\n",
              "      <td>0</td>\n",
              "      <td>0</td>\n",
              "      <td>0</td>\n",
              "      <td>2</td>\n",
              "      <td>0</td>\n",
              "      <td>0</td>\n",
              "      <td>0</td>\n",
              "      <td>251</td>\n",
              "      <td>-1</td>\n",
              "      <td>0</td>\n",
              "      <td>20</td>\n",
              "      <td>0.0</td>\n",
              "      <td>0.0</td>\n",
              "      <td>0</td>\n",
              "      <td>0</td>\n",
              "      <td>0.0</td>\n",
              "      <td>0.0</td>\n",
              "      <td>0</td>\n",
              "      <td>0</td>\n",
              "    </tr>\n",
              "    <tr>\n",
              "      <th>5</th>\n",
              "      <td>80</td>\n",
              "      <td>98403702</td>\n",
              "      <td>7</td>\n",
              "      <td>5</td>\n",
              "      <td>377</td>\n",
              "      <td>11595</td>\n",
              "      <td>377</td>\n",
              "      <td>0</td>\n",
              "      <td>53.857143</td>\n",
              "      <td>142.492606</td>\n",
              "      <td>7240</td>\n",
              "      <td>0</td>\n",
              "      <td>2319.000000</td>\n",
              "      <td>3331.638186</td>\n",
              "      <td>1.216621e+02</td>\n",
              "      <td>0.121947</td>\n",
              "      <td>8.945791e+06</td>\n",
              "      <td>2.970000e+07</td>\n",
              "      <td>98400000</td>\n",
              "      <td>1</td>\n",
              "      <td>98400000</td>\n",
              "      <td>1.640000e+07</td>\n",
              "      <td>4.020000e+07</td>\n",
              "      <td>98400000</td>\n",
              "      <td>1</td>\n",
              "      <td>48396</td>\n",
              "      <td>1.209900e+04</td>\n",
              "      <td>1.746332e+04</td>\n",
              "      <td>37136</td>\n",
              "      <td>85</td>\n",
              "      <td>0</td>\n",
              "      <td>0</td>\n",
              "      <td>0</td>\n",
              "      <td>0</td>\n",
              "      <td>232</td>\n",
              "      <td>168</td>\n",
              "      <td>0.071136</td>\n",
              "      <td>0.050811</td>\n",
              "      <td>0</td>\n",
              "      <td>7240</td>\n",
              "      <td>920.923077</td>\n",
              "      <td>2243.600063</td>\n",
              "      <td>5.033741e+06</td>\n",
              "      <td>0</td>\n",
              "      <td>0</td>\n",
              "      <td>0</td>\n",
              "      <td>0</td>\n",
              "      <td>1</td>\n",
              "      <td>0</td>\n",
              "      <td>0</td>\n",
              "      <td>0</td>\n",
              "      <td>0</td>\n",
              "      <td>997.666667</td>\n",
              "      <td>53.857143</td>\n",
              "      <td>2319.000000</td>\n",
              "      <td>232</td>\n",
              "      <td>0</td>\n",
              "      <td>0</td>\n",
              "      <td>0</td>\n",
              "      <td>0</td>\n",
              "      <td>0</td>\n",
              "      <td>0</td>\n",
              "      <td>7</td>\n",
              "      <td>377</td>\n",
              "      <td>5</td>\n",
              "      <td>11595</td>\n",
              "      <td>251</td>\n",
              "      <td>235</td>\n",
              "      <td>1</td>\n",
              "      <td>32</td>\n",
              "      <td>986.0</td>\n",
              "      <td>0.0</td>\n",
              "      <td>986</td>\n",
              "      <td>986</td>\n",
              "      <td>98400000.0</td>\n",
              "      <td>0.0</td>\n",
              "      <td>98400000</td>\n",
              "      <td>98400000</td>\n",
              "    </tr>\n",
              "    <tr>\n",
              "      <th>6</th>\n",
              "      <td>53</td>\n",
              "      <td>30843</td>\n",
              "      <td>1</td>\n",
              "      <td>1</td>\n",
              "      <td>54</td>\n",
              "      <td>70</td>\n",
              "      <td>54</td>\n",
              "      <td>54</td>\n",
              "      <td>54.000000</td>\n",
              "      <td>0.000000</td>\n",
              "      <td>70</td>\n",
              "      <td>70</td>\n",
              "      <td>70.000000</td>\n",
              "      <td>0.000000</td>\n",
              "      <td>4.020361e+03</td>\n",
              "      <td>64.844535</td>\n",
              "      <td>3.084300e+04</td>\n",
              "      <td>0.000000e+00</td>\n",
              "      <td>30843</td>\n",
              "      <td>30843</td>\n",
              "      <td>0</td>\n",
              "      <td>0.000000e+00</td>\n",
              "      <td>0.000000e+00</td>\n",
              "      <td>0</td>\n",
              "      <td>0</td>\n",
              "      <td>0</td>\n",
              "      <td>0.000000e+00</td>\n",
              "      <td>0.000000e+00</td>\n",
              "      <td>0</td>\n",
              "      <td>0</td>\n",
              "      <td>0</td>\n",
              "      <td>0</td>\n",
              "      <td>0</td>\n",
              "      <td>0</td>\n",
              "      <td>40</td>\n",
              "      <td>40</td>\n",
              "      <td>32.422268</td>\n",
              "      <td>32.422268</td>\n",
              "      <td>54</td>\n",
              "      <td>70</td>\n",
              "      <td>59.333333</td>\n",
              "      <td>9.237604</td>\n",
              "      <td>8.533333e+01</td>\n",
              "      <td>0</td>\n",
              "      <td>0</td>\n",
              "      <td>0</td>\n",
              "      <td>0</td>\n",
              "      <td>0</td>\n",
              "      <td>0</td>\n",
              "      <td>0</td>\n",
              "      <td>0</td>\n",
              "      <td>1</td>\n",
              "      <td>89.000000</td>\n",
              "      <td>54.000000</td>\n",
              "      <td>70.000000</td>\n",
              "      <td>40</td>\n",
              "      <td>0</td>\n",
              "      <td>0</td>\n",
              "      <td>0</td>\n",
              "      <td>0</td>\n",
              "      <td>0</td>\n",
              "      <td>0</td>\n",
              "      <td>1</td>\n",
              "      <td>54</td>\n",
              "      <td>1</td>\n",
              "      <td>70</td>\n",
              "      <td>-1</td>\n",
              "      <td>-1</td>\n",
              "      <td>0</td>\n",
              "      <td>40</td>\n",
              "      <td>0.0</td>\n",
              "      <td>0.0</td>\n",
              "      <td>0</td>\n",
              "      <td>0</td>\n",
              "      <td>0.0</td>\n",
              "      <td>0.0</td>\n",
              "      <td>0</td>\n",
              "      <td>0</td>\n",
              "    </tr>\n",
              "    <tr>\n",
              "      <th>7</th>\n",
              "      <td>80</td>\n",
              "      <td>5421062</td>\n",
              "      <td>4</td>\n",
              "      <td>4</td>\n",
              "      <td>404</td>\n",
              "      <td>557</td>\n",
              "      <td>392</td>\n",
              "      <td>0</td>\n",
              "      <td>101.000000</td>\n",
              "      <td>194.020617</td>\n",
              "      <td>545</td>\n",
              "      <td>0</td>\n",
              "      <td>139.250000</td>\n",
              "      <td>270.514787</td>\n",
              "      <td>1.772715e+02</td>\n",
              "      <td>1.475726</td>\n",
              "      <td>7.744374e+05</td>\n",
              "      <td>1.844927e+06</td>\n",
              "      <td>4957127</td>\n",
              "      <td>44</td>\n",
              "      <td>463935</td>\n",
              "      <td>1.546450e+05</td>\n",
              "      <td>9.245367e+04</td>\n",
              "      <td>259773</td>\n",
              "      <td>85995</td>\n",
              "      <td>5335111</td>\n",
              "      <td>1.778370e+06</td>\n",
              "      <td>2.790358e+06</td>\n",
              "      <td>5000119</td>\n",
              "      <td>130731</td>\n",
              "      <td>0</td>\n",
              "      <td>0</td>\n",
              "      <td>0</td>\n",
              "      <td>0</td>\n",
              "      <td>92</td>\n",
              "      <td>92</td>\n",
              "      <td>0.737863</td>\n",
              "      <td>0.737863</td>\n",
              "      <td>0</td>\n",
              "      <td>545</td>\n",
              "      <td>106.777778</td>\n",
              "      <td>208.632319</td>\n",
              "      <td>4.352744e+04</td>\n",
              "      <td>0</td>\n",
              "      <td>0</td>\n",
              "      <td>0</td>\n",
              "      <td>1</td>\n",
              "      <td>0</td>\n",
              "      <td>0</td>\n",
              "      <td>0</td>\n",
              "      <td>0</td>\n",
              "      <td>1</td>\n",
              "      <td>120.125000</td>\n",
              "      <td>101.000000</td>\n",
              "      <td>139.250000</td>\n",
              "      <td>92</td>\n",
              "      <td>0</td>\n",
              "      <td>0</td>\n",
              "      <td>0</td>\n",
              "      <td>0</td>\n",
              "      <td>0</td>\n",
              "      <td>0</td>\n",
              "      <td>4</td>\n",
              "      <td>404</td>\n",
              "      <td>4</td>\n",
              "      <td>557</td>\n",
              "      <td>8192</td>\n",
              "      <td>60</td>\n",
              "      <td>3</td>\n",
              "      <td>20</td>\n",
              "      <td>0.0</td>\n",
              "      <td>0.0</td>\n",
              "      <td>0</td>\n",
              "      <td>0</td>\n",
              "      <td>0.0</td>\n",
              "      <td>0.0</td>\n",
              "      <td>0</td>\n",
              "      <td>0</td>\n",
              "    </tr>\n",
              "    <tr>\n",
              "      <th>8</th>\n",
              "      <td>53</td>\n",
              "      <td>206</td>\n",
              "      <td>2</td>\n",
              "      <td>2</td>\n",
              "      <td>102</td>\n",
              "      <td>134</td>\n",
              "      <td>51</td>\n",
              "      <td>51</td>\n",
              "      <td>51.000000</td>\n",
              "      <td>0.000000</td>\n",
              "      <td>67</td>\n",
              "      <td>67</td>\n",
              "      <td>67.000000</td>\n",
              "      <td>0.000000</td>\n",
              "      <td>1.145631e+06</td>\n",
              "      <td>19417.475730</td>\n",
              "      <td>6.866667e+01</td>\n",
              "      <td>1.128731e+02</td>\n",
              "      <td>199</td>\n",
              "      <td>3</td>\n",
              "      <td>3</td>\n",
              "      <td>3.000000e+00</td>\n",
              "      <td>0.000000e+00</td>\n",
              "      <td>3</td>\n",
              "      <td>3</td>\n",
              "      <td>4</td>\n",
              "      <td>4.000000e+00</td>\n",
              "      <td>0.000000e+00</td>\n",
              "      <td>4</td>\n",
              "      <td>4</td>\n",
              "      <td>0</td>\n",
              "      <td>0</td>\n",
              "      <td>0</td>\n",
              "      <td>0</td>\n",
              "      <td>40</td>\n",
              "      <td>40</td>\n",
              "      <td>9708.737864</td>\n",
              "      <td>9708.737864</td>\n",
              "      <td>51</td>\n",
              "      <td>67</td>\n",
              "      <td>57.400000</td>\n",
              "      <td>8.763561</td>\n",
              "      <td>7.680000e+01</td>\n",
              "      <td>0</td>\n",
              "      <td>0</td>\n",
              "      <td>0</td>\n",
              "      <td>0</td>\n",
              "      <td>0</td>\n",
              "      <td>0</td>\n",
              "      <td>0</td>\n",
              "      <td>0</td>\n",
              "      <td>1</td>\n",
              "      <td>71.750000</td>\n",
              "      <td>51.000000</td>\n",
              "      <td>67.000000</td>\n",
              "      <td>40</td>\n",
              "      <td>0</td>\n",
              "      <td>0</td>\n",
              "      <td>0</td>\n",
              "      <td>0</td>\n",
              "      <td>0</td>\n",
              "      <td>0</td>\n",
              "      <td>2</td>\n",
              "      <td>102</td>\n",
              "      <td>2</td>\n",
              "      <td>134</td>\n",
              "      <td>-1</td>\n",
              "      <td>-1</td>\n",
              "      <td>1</td>\n",
              "      <td>20</td>\n",
              "      <td>0.0</td>\n",
              "      <td>0.0</td>\n",
              "      <td>0</td>\n",
              "      <td>0</td>\n",
              "      <td>0.0</td>\n",
              "      <td>0.0</td>\n",
              "      <td>0</td>\n",
              "      <td>0</td>\n",
              "    </tr>\n",
              "    <tr>\n",
              "      <th>9</th>\n",
              "      <td>443</td>\n",
              "      <td>150960</td>\n",
              "      <td>23</td>\n",
              "      <td>29</td>\n",
              "      <td>871</td>\n",
              "      <td>42347</td>\n",
              "      <td>389</td>\n",
              "      <td>0</td>\n",
              "      <td>37.869565</td>\n",
              "      <td>97.234629</td>\n",
              "      <td>2896</td>\n",
              "      <td>0</td>\n",
              "      <td>1460.241379</td>\n",
              "      <td>817.188764</td>\n",
              "      <td>2.862878e+05</td>\n",
              "      <td>344.462109</td>\n",
              "      <td>2.960000e+03</td>\n",
              "      <td>6.837418e+03</td>\n",
              "      <td>23727</td>\n",
              "      <td>1</td>\n",
              "      <td>150960</td>\n",
              "      <td>6.861818e+03</td>\n",
              "      <td>9.614413e+03</td>\n",
              "      <td>24881</td>\n",
              "      <td>1</td>\n",
              "      <td>127499</td>\n",
              "      <td>4.553536e+03</td>\n",
              "      <td>1.100617e+04</td>\n",
              "      <td>40997</td>\n",
              "      <td>48</td>\n",
              "      <td>0</td>\n",
              "      <td>0</td>\n",
              "      <td>0</td>\n",
              "      <td>0</td>\n",
              "      <td>748</td>\n",
              "      <td>936</td>\n",
              "      <td>152.358241</td>\n",
              "      <td>192.103869</td>\n",
              "      <td>0</td>\n",
              "      <td>2896</td>\n",
              "      <td>815.433962</td>\n",
              "      <td>935.771288</td>\n",
              "      <td>8.756679e+05</td>\n",
              "      <td>0</td>\n",
              "      <td>0</td>\n",
              "      <td>0</td>\n",
              "      <td>1</td>\n",
              "      <td>0</td>\n",
              "      <td>0</td>\n",
              "      <td>0</td>\n",
              "      <td>0</td>\n",
              "      <td>1</td>\n",
              "      <td>831.115385</td>\n",
              "      <td>37.869565</td>\n",
              "      <td>1460.241379</td>\n",
              "      <td>748</td>\n",
              "      <td>0</td>\n",
              "      <td>0</td>\n",
              "      <td>0</td>\n",
              "      <td>0</td>\n",
              "      <td>0</td>\n",
              "      <td>0</td>\n",
              "      <td>23</td>\n",
              "      <td>871</td>\n",
              "      <td>29</td>\n",
              "      <td>42347</td>\n",
              "      <td>65535</td>\n",
              "      <td>122</td>\n",
              "      <td>6</td>\n",
              "      <td>32</td>\n",
              "      <td>0.0</td>\n",
              "      <td>0.0</td>\n",
              "      <td>0</td>\n",
              "      <td>0</td>\n",
              "      <td>0.0</td>\n",
              "      <td>0.0</td>\n",
              "      <td>0</td>\n",
              "      <td>0</td>\n",
              "    </tr>\n",
              "  </tbody>\n",
              "</table>\n",
              "</div>"
            ],
            "text/plain": [
              "    Destination Port   Flow Duration  ...   Idle Max   Idle Min\n",
              "0                 53             159  ...          0          0\n",
              "1                 53           51673  ...          0          0\n",
              "2               7496              43  ...          0          0\n",
              "3              46564              61  ...          0          0\n",
              "4                 80              69  ...          0          0\n",
              "5                 80        98403702  ...   98400000   98400000\n",
              "6                 53           30843  ...          0          0\n",
              "7                 80         5421062  ...          0          0\n",
              "8                 53             206  ...          0          0\n",
              "9                443          150960  ...          0          0\n",
              "\n",
              "[10 rows x 78 columns]"
            ]
          },
          "metadata": {},
          "execution_count": 9
        }
      ]
    },
    {
      "cell_type": "markdown",
      "metadata": {
        "id": "Plmy8UBZXUNG"
      },
      "source": [
        "Sclaing the data using 0 mean normlization"
      ]
    },
    {
      "cell_type": "code",
      "metadata": {
        "id": "MqAkYgNvlPzA"
      },
      "source": [
        "scaler = StandardScaler()\n",
        "X = scaler.fit_transform(X.to_numpy())"
      ],
      "execution_count": 10,
      "outputs": []
    },
    {
      "cell_type": "markdown",
      "metadata": {
        "id": "KevTLcf9YIze"
      },
      "source": [
        "Splitting the data to train and test"
      ]
    },
    {
      "cell_type": "code",
      "metadata": {
        "id": "jRdIOcZvtbPv"
      },
      "source": [
        "X_train, X_test, y_train, y_test = train_test_split(X, y, test_size=0.20, random_state=42)"
      ],
      "execution_count": 11,
      "outputs": []
    },
    {
      "cell_type": "markdown",
      "metadata": {
        "id": "6WkHomIiZLn2"
      },
      "source": [
        "## Training and Testing"
      ]
    },
    {
      "cell_type": "markdown",
      "metadata": {
        "id": "cbzZGOV9z5eT"
      },
      "source": [
        "RandomForest"
      ]
    },
    {
      "cell_type": "code",
      "metadata": {
        "colab": {
          "base_uri": "https://localhost:8080/"
        },
        "id": "rvnMe3eJ_xCF",
        "outputId": "09062671-82b7-45cf-eaa3-78df2145fc5b"
      },
      "source": [
        "# Create the random grid\n",
        "param_grid = {\n",
        "    'max_depth': [10, 20, 30],\n",
        "    'max_features': ['auto'],\n",
        "    'min_samples_leaf': [2,3, 4],\n",
        "    'min_samples_split': [2,3,4],\n",
        "    'n_estimators': [5, 10, 20],\n",
        "    'ccp_alpha':[0.01,0.1,0]\n",
        "}\n",
        "# Create a based model\n",
        "rf = RandomForestClassifier(random_state=0)\n",
        "# Instantiate the grid search model\n",
        "grid_search = GridSearchCV(estimator = rf, param_grid = param_grid, \n",
        "                          cv = 3, n_jobs = -1, verbose = 2)\n",
        "grid_search.fit(X_train, y_train)"
      ],
      "execution_count": 12,
      "outputs": [
        {
          "output_type": "stream",
          "name": "stdout",
          "text": [
            "Fitting 3 folds for each of 243 candidates, totalling 729 fits\n"
          ]
        },
        {
          "output_type": "execute_result",
          "data": {
            "text/plain": [
              "GridSearchCV(cv=3, estimator=RandomForestClassifier(random_state=0), n_jobs=-1,\n",
              "             param_grid={'ccp_alpha': [0.01, 0.1, 0], 'max_depth': [10, 20, 30],\n",
              "                         'max_features': ['auto'],\n",
              "                         'min_samples_leaf': [2, 3, 4],\n",
              "                         'min_samples_split': [2, 3, 4],\n",
              "                         'n_estimators': [5, 10, 20]},\n",
              "             verbose=2)"
            ]
          },
          "metadata": {},
          "execution_count": 12
        }
      ]
    },
    {
      "cell_type": "code",
      "metadata": {
        "colab": {
          "base_uri": "https://localhost:8080/"
        },
        "id": "RU3Mu8la_2BU",
        "outputId": "9428786c-53b4-4af1-d9e8-7e409b51372a"
      },
      "source": [
        "grid_search.best_params_"
      ],
      "execution_count": 13,
      "outputs": [
        {
          "output_type": "execute_result",
          "data": {
            "text/plain": [
              "{'ccp_alpha': 0,\n",
              " 'max_depth': 20,\n",
              " 'max_features': 'auto',\n",
              " 'min_samples_leaf': 2,\n",
              " 'min_samples_split': 2,\n",
              " 'n_estimators': 20}"
            ]
          },
          "metadata": {},
          "execution_count": 13
        }
      ]
    },
    {
      "cell_type": "code",
      "metadata": {
        "colab": {
          "base_uri": "https://localhost:8080/"
        },
        "id": "Ynf09xLAlkSf",
        "outputId": "b002cac1-3e34-4d92-e82c-206a4768ace0"
      },
      "source": [
        "static_rf = RandomForestClassifier(random_state=0,\n",
        " max_depth= 20,\n",
        " max_features='auto',\n",
        " min_samples_leaf= 2,\n",
        " min_samples_split= 2,\n",
        " n_estimators= 20)\n",
        "static_rf.fit(X_train, y_train)"
      ],
      "execution_count": 14,
      "outputs": [
        {
          "output_type": "execute_result",
          "data": {
            "text/plain": [
              "RandomForestClassifier(max_depth=20, min_samples_leaf=2, n_estimators=20,\n",
              "                       random_state=0)"
            ]
          },
          "metadata": {},
          "execution_count": 14
        }
      ]
    },
    {
      "cell_type": "code",
      "metadata": {
        "colab": {
          "base_uri": "https://localhost:8080/"
        },
        "id": "QW9LcV-7mkRw",
        "outputId": "158bd514-1e9b-41dc-8ad4-57f0634c4cf2"
      },
      "source": [
        "y_pred = static_rf.predict(X_test)\n",
        "score = precision_recall_fscore_support(y_test, y_pred,average='weighted')\n",
        "print('Precision: ',score[0],'\\nRecall: ',score[1],'\\nF1 Score: ',score[2])"
      ],
      "execution_count": 15,
      "outputs": [
        {
          "output_type": "stream",
          "name": "stdout",
          "text": [
            "Precision:  0.9980116059721886 \n",
            "Recall:  0.9980142970611596 \n",
            "F1 Score:  0.9980125099422075\n"
          ]
        }
      ]
    },
    {
      "cell_type": "markdown",
      "metadata": {
        "id": "KzZzRq-D0lpq"
      },
      "source": [
        "GradiantBoosting"
      ]
    },
    {
      "cell_type": "code",
      "metadata": {
        "colab": {
          "base_uri": "https://localhost:8080/"
        },
        "id": "TZVg-P5NBbnj",
        "outputId": "cc1dc070-c939-484e-bbb4-9a990049f17a"
      },
      "source": [
        "# Create the random grid\n",
        "param_grid = {\n",
        "    'n_estimators': [5, 10, 20],\n",
        "    'learning_rate':[0.01,0.1,1]\n",
        "}\n",
        "# Create a based model\n",
        "ab = AdaBoostClassifier(random_state=0)\n",
        "# Instantiate the grid search model\n",
        "grid_search = GridSearchCV(estimator = ab, param_grid = param_grid, \n",
        "                          cv = 3, n_jobs = -1, verbose = 2)\n",
        "grid_search.fit(X_train, y_train)"
      ],
      "execution_count": 16,
      "outputs": [
        {
          "output_type": "stream",
          "name": "stdout",
          "text": [
            "Fitting 3 folds for each of 9 candidates, totalling 27 fits\n"
          ]
        },
        {
          "output_type": "execute_result",
          "data": {
            "text/plain": [
              "GridSearchCV(cv=3, estimator=AdaBoostClassifier(random_state=0), n_jobs=-1,\n",
              "             param_grid={'learning_rate': [0.01, 0.1, 1],\n",
              "                         'n_estimators': [5, 10, 20]},\n",
              "             verbose=2)"
            ]
          },
          "metadata": {},
          "execution_count": 16
        }
      ]
    },
    {
      "cell_type": "code",
      "metadata": {
        "colab": {
          "base_uri": "https://localhost:8080/"
        },
        "id": "djz4xaeWBcXj",
        "outputId": "a448078c-5368-4eb1-a7b2-37b6eb473a4c"
      },
      "source": [
        "grid_search.best_params_"
      ],
      "execution_count": 17,
      "outputs": [
        {
          "output_type": "execute_result",
          "data": {
            "text/plain": [
              "{'learning_rate': 1, 'n_estimators': 20}"
            ]
          },
          "metadata": {},
          "execution_count": 17
        }
      ]
    },
    {
      "cell_type": "code",
      "metadata": {
        "id": "6wGvuSMcwS3Y"
      },
      "source": [
        "static_ab = AdaBoostClassifier(n_estimators=20,learning_rate= 1, random_state=0).fit(X_train, y_train)"
      ],
      "execution_count": 18,
      "outputs": []
    },
    {
      "cell_type": "code",
      "metadata": {
        "colab": {
          "base_uri": "https://localhost:8080/"
        },
        "id": "Jwwx7ViX0rKC",
        "outputId": "f8f160e7-c760-41f6-93c2-f058c529ce09"
      },
      "source": [
        "y_pred = static_ab.predict(X_test)\n",
        "score = precision_recall_fscore_support(y_test, y_pred, average='micro')\n",
        "print('Precision: ',score[0],'\\nRecall: ',score[1],'\\nF1 Score: ',score[2])"
      ],
      "execution_count": 19,
      "outputs": [
        {
          "output_type": "stream",
          "name": "stdout",
          "text": [
            "Precision:  0.994042891183479 \n",
            "Recall:  0.994042891183479 \n",
            "F1 Score:  0.994042891183479\n"
          ]
        }
      ]
    },
    {
      "cell_type": "markdown",
      "metadata": {
        "id": "XB0v9vyW1akJ"
      },
      "source": [
        "Choosing random forest and take a copy from it."
      ]
    },
    {
      "cell_type": "code",
      "metadata": {
        "id": "quX2nzcb1RLp"
      },
      "source": [
        "dynamic_rf = deepcopy(static_rf)"
      ],
      "execution_count": 20,
      "outputs": []
    },
    {
      "cell_type": "markdown",
      "metadata": {
        "id": "O8OAlfPUk00l"
      },
      "source": [
        "## Dynamic"
      ]
    },
    {
      "cell_type": "code",
      "metadata": {
        "id": "ZPkJ5pZ4wTlP"
      },
      "source": [
        "# instantiate the KafkaConsumer Class using the arguments mentioned.\n",
        "# do not change any arguments other than the first positional argument.\n",
        "consumer = KafkaConsumer(\n",
        "    'task1',   # change this to \"task2\" for the IOT Botnet Detection  ---- important ----\n",
        "    bootstrap_servers=\"34.130.121.39:9092\",\n",
        "    sasl_plain_username=\"student\",\n",
        "    sasl_plain_password=\"uottawa\",\n",
        "    security_protocol=\"SASL_PLAINTEXT\",\n",
        "    sasl_mechanism=\"PLAIN\",\n",
        "    auto_offset_reset='earliest',\n",
        "    enable_auto_commit=False\n",
        ")"
      ],
      "execution_count": 21,
      "outputs": []
    },
    {
      "cell_type": "code",
      "metadata": {
        "id": "LnN_G85pFOXr"
      },
      "source": [
        "def get_data(consumer):\n",
        "  # Data Stream flowing in.\n",
        "  i = 0\n",
        "  X_t = []\n",
        "  y_t = []\n",
        "  for message in consumer:\n",
        "      data_packet = message.value\n",
        "      try:\n",
        "        # transform the packet from json to list. \n",
        "        input= str(data_packet, 'utf-8')\n",
        "        input=re.sub('\\'','\\\"',input)\n",
        "        res = json.loads(input)\n",
        "        X_d = np.array(list(res.values())[:-1]).reshape(1,-1)\n",
        "        y_d = list(res.values())[-1]\n",
        "        \n",
        "        X_t.append(X_d[0])\n",
        "        y_t.append(y_d)\n",
        "        i += 1   \n",
        "      except:\n",
        "        pass\n",
        "      if i == 1000:\n",
        "          break\n",
        "  return np.array(X_t),np.array(y_t)"
      ],
      "execution_count": 22,
      "outputs": []
    },
    {
      "cell_type": "code",
      "metadata": {
        "id": "H3KMbPx8vwkA"
      },
      "source": [
        "import math"
      ],
      "execution_count": 23,
      "outputs": []
    },
    {
      "cell_type": "code",
      "metadata": {
        "colab": {
          "base_uri": "https://localhost:8080/"
        },
        "id": "KYt6zsgovJ1D",
        "outputId": "17e0ecbe-404a-4ebf-c79f-fed5650d97e0"
      },
      "source": [
        "# list of static model scores\n",
        "static_scores = []\n",
        "# list of dynamic model scores\n",
        "dynamic_scores = []\n",
        "\n",
        "for i in range(1,100):\n",
        "  # get data from kafka server.\n",
        "  X_d,y_d = get_data(consumer)\n",
        "\n",
        "  # preprocessing the gotten data.\n",
        "  X_d = scaler.transform(X_d) \n",
        "  y_d = list(map(lambda x: 1 if x == 'ATTACK' else 0, y_d))\n",
        "  print('Iteration No.',i)\n",
        "  try:\n",
        "    # test data from kafka using static model.\n",
        "    y_pred = static_rf.predict(X_d)\n",
        "    score = precision_recall_fscore_support(y_d, y_pred,average='micro')\n",
        "    static_scores.append(score)\n",
        "    print('Static Model - New 1000 - Precision: ',score[0],'  Recall: ',score[1],'  F1 Score: ',score[2])\n",
        "    # test data from kafka using dynamic model.\n",
        "    y_pred = dynamic_rf.predict(X_d)\n",
        "    score = precision_recall_fscore_support(y_d, y_pred,average='micro')\n",
        "    dynamic_scores.append(score)\n",
        "    print('Dynamic Model - New 1000 - Precision: ',score[0],'  Recall: ',score[1],'  F1 Score: ',score[2])\n",
        "\n",
        "    # add the new data to the orignal data and remove the oldes with the same length.\n",
        "    X_new = X\n",
        "    y_new = y\n",
        "    X_new = X_new[:len(X_new)-1000]\n",
        "    y_new = y_new[:len(y_new)-1000]\n",
        "    X_new = np.concatenate((X_new, X_d), axis=0)\n",
        "    y_new = np.concatenate((y_new, y_d), axis=0)\n",
        "\n",
        "    # fitting the dynamic model using prepared data.\n",
        "    dynamic_rf = dynamic_rf.fit(X_new,y_new)\n",
        "  except Exception as e:\n",
        "    print(str(e))\n"
      ],
      "execution_count": 24,
      "outputs": [
        {
          "output_type": "stream",
          "name": "stdout",
          "text": [
            "Iteration No. 1\n",
            "Static Model - New 1000 - Precision:  0.999   Recall:  0.999   F1 Score:  0.999\n",
            "Dynamic Model - New 1000 - Precision:  0.999   Recall:  0.999   F1 Score:  0.999\n",
            "Iteration No. 2\n",
            "Static Model - New 1000 - Precision:  0.997   Recall:  0.997   F1 Score:  0.997\n",
            "Dynamic Model - New 1000 - Precision:  0.995   Recall:  0.995   F1 Score:  0.995\n",
            "Iteration No. 3\n",
            "Static Model - New 1000 - Precision:  0.996   Recall:  0.996   F1 Score:  0.996\n",
            "Dynamic Model - New 1000 - Precision:  0.996   Recall:  0.996   F1 Score:  0.996\n",
            "Iteration No. 4\n",
            "Static Model - New 1000 - Precision:  0.997   Recall:  0.997   F1 Score:  0.997\n",
            "Dynamic Model - New 1000 - Precision:  0.995   Recall:  0.995   F1 Score:  0.995\n",
            "Iteration No. 5\n",
            "Static Model - New 1000 - Precision:  0.996   Recall:  0.996   F1 Score:  0.996\n",
            "Dynamic Model - New 1000 - Precision:  0.997   Recall:  0.997   F1 Score:  0.997\n",
            "Iteration No. 6\n",
            "Static Model - New 1000 - Precision:  0.995   Recall:  0.995   F1 Score:  0.995\n",
            "Dynamic Model - New 1000 - Precision:  0.995   Recall:  0.995   F1 Score:  0.995\n",
            "Iteration No. 7\n",
            "Static Model - New 1000 - Precision:  0.998   Recall:  0.998   F1 Score:  0.998\n",
            "Dynamic Model - New 1000 - Precision:  0.995   Recall:  0.995   F1 Score:  0.995\n",
            "Iteration No. 8\n",
            "Static Model - New 1000 - Precision:  0.996   Recall:  0.996   F1 Score:  0.996\n",
            "Dynamic Model - New 1000 - Precision:  0.997   Recall:  0.997   F1 Score:  0.997\n",
            "Iteration No. 9\n",
            "Static Model - New 1000 - Precision:  0.997   Recall:  0.997   F1 Score:  0.997\n",
            "Dynamic Model - New 1000 - Precision:  0.994   Recall:  0.994   F1 Score:  0.994\n",
            "Iteration No. 10\n",
            "Static Model - New 1000 - Precision:  0.999   Recall:  0.999   F1 Score:  0.999\n",
            "Dynamic Model - New 1000 - Precision:  0.999   Recall:  0.999   F1 Score:  0.999\n",
            "Iteration No. 11\n",
            "Static Model - New 1000 - Precision:  0.998   Recall:  0.998   F1 Score:  0.998\n",
            "Dynamic Model - New 1000 - Precision:  0.997   Recall:  0.997   F1 Score:  0.997\n",
            "Iteration No. 12\n",
            "Static Model - New 1000 - Precision:  0.999   Recall:  0.999   F1 Score:  0.999\n",
            "Dynamic Model - New 1000 - Precision:  0.999   Recall:  0.999   F1 Score:  0.999\n",
            "Iteration No. 13\n",
            "Static Model - New 1000 - Precision:  0.995   Recall:  0.995   F1 Score:  0.995\n",
            "Dynamic Model - New 1000 - Precision:  0.994   Recall:  0.994   F1 Score:  0.994\n",
            "Iteration No. 14\n",
            "Static Model - New 1000 - Precision:  0.997   Recall:  0.997   F1 Score:  0.997\n",
            "Dynamic Model - New 1000 - Precision:  0.996   Recall:  0.996   F1 Score:  0.996\n",
            "Iteration No. 15\n",
            "Static Model - New 1000 - Precision:  0.997   Recall:  0.997   F1 Score:  0.997\n",
            "Dynamic Model - New 1000 - Precision:  0.995   Recall:  0.995   F1 Score:  0.995\n",
            "Iteration No. 16\n",
            "Static Model - New 1000 - Precision:  0.996   Recall:  0.996   F1 Score:  0.996\n",
            "Dynamic Model - New 1000 - Precision:  0.994   Recall:  0.994   F1 Score:  0.994\n",
            "Iteration No. 17\n",
            "Static Model - New 1000 - Precision:  0.997   Recall:  0.997   F1 Score:  0.997\n",
            "Dynamic Model - New 1000 - Precision:  0.997   Recall:  0.997   F1 Score:  0.997\n",
            "Iteration No. 18\n",
            "Static Model - New 1000 - Precision:  0.995   Recall:  0.995   F1 Score:  0.995\n",
            "Dynamic Model - New 1000 - Precision:  0.995   Recall:  0.995   F1 Score:  0.995\n",
            "Iteration No. 19\n",
            "Static Model - New 1000 - Precision:  0.997   Recall:  0.997   F1 Score:  0.997\n",
            "Dynamic Model - New 1000 - Precision:  0.998   Recall:  0.998   F1 Score:  0.998\n",
            "Iteration No. 20\n",
            "Static Model - New 1000 - Precision:  0.995   Recall:  0.995   F1 Score:  0.995\n",
            "Dynamic Model - New 1000 - Precision:  0.995   Recall:  0.995   F1 Score:  0.995\n",
            "Iteration No. 21\n",
            "Static Model - New 1000 - Precision:  0.997   Recall:  0.997   F1 Score:  0.997\n",
            "Dynamic Model - New 1000 - Precision:  0.996   Recall:  0.996   F1 Score:  0.996\n",
            "Iteration No. 22\n",
            "Static Model - New 1000 - Precision:  0.999   Recall:  0.999   F1 Score:  0.999\n",
            "Dynamic Model - New 1000 - Precision:  0.999   Recall:  0.999   F1 Score:  0.999\n",
            "Iteration No. 23\n",
            "Static Model - New 1000 - Precision:  0.99   Recall:  0.99   F1 Score:  0.99\n",
            "Dynamic Model - New 1000 - Precision:  0.989   Recall:  0.989   F1 Score:  0.989\n",
            "Iteration No. 24\n",
            "Static Model - New 1000 - Precision:  0.998   Recall:  0.998   F1 Score:  0.998\n",
            "Dynamic Model - New 1000 - Precision:  0.999   Recall:  0.999   F1 Score:  0.999\n",
            "Iteration No. 25\n",
            "Static Model - New 1000 - Precision:  0.994   Recall:  0.994   F1 Score:  0.994\n",
            "Dynamic Model - New 1000 - Precision:  0.994   Recall:  0.994   F1 Score:  0.994\n",
            "Iteration No. 26\n",
            "Static Model - New 1000 - Precision:  0.998   Recall:  0.998   F1 Score:  0.998\n",
            "Dynamic Model - New 1000 - Precision:  0.999   Recall:  0.999   F1 Score:  0.999\n",
            "Iteration No. 27\n",
            "Static Model - New 1000 - Precision:  0.995   Recall:  0.995   F1 Score:  0.995\n",
            "Dynamic Model - New 1000 - Precision:  0.997   Recall:  0.997   F1 Score:  0.997\n",
            "Iteration No. 28\n",
            "Static Model - New 1000 - Precision:  0.993   Recall:  0.993   F1 Score:  0.993\n",
            "Dynamic Model - New 1000 - Precision:  0.993   Recall:  0.993   F1 Score:  0.993\n",
            "Iteration No. 29\n",
            "Static Model - New 1000 - Precision:  0.993   Recall:  0.993   F1 Score:  0.993\n",
            "Dynamic Model - New 1000 - Precision:  0.994   Recall:  0.994   F1 Score:  0.994\n",
            "Iteration No. 30\n",
            "Static Model - New 1000 - Precision:  0.999   Recall:  0.999   F1 Score:  0.999\n",
            "Dynamic Model - New 1000 - Precision:  0.998   Recall:  0.998   F1 Score:  0.998\n",
            "Iteration No. 31\n",
            "Static Model - New 1000 - Precision:  0.994   Recall:  0.994   F1 Score:  0.994\n",
            "Dynamic Model - New 1000 - Precision:  0.996   Recall:  0.996   F1 Score:  0.996\n",
            "Iteration No. 32\n",
            "Static Model - New 1000 - Precision:  0.999   Recall:  0.999   F1 Score:  0.999\n",
            "Dynamic Model - New 1000 - Precision:  0.999   Recall:  0.999   F1 Score:  0.999\n",
            "Iteration No. 33\n",
            "Static Model - New 1000 - Precision:  0.996   Recall:  0.996   F1 Score:  0.996\n",
            "Dynamic Model - New 1000 - Precision:  0.995   Recall:  0.995   F1 Score:  0.995\n",
            "Iteration No. 34\n",
            "Static Model - New 1000 - Precision:  0.996   Recall:  0.996   F1 Score:  0.996\n",
            "Dynamic Model - New 1000 - Precision:  0.996   Recall:  0.996   F1 Score:  0.996\n",
            "Iteration No. 35\n",
            "Static Model - New 1000 - Precision:  0.998   Recall:  0.998   F1 Score:  0.998\n",
            "Dynamic Model - New 1000 - Precision:  0.998   Recall:  0.998   F1 Score:  0.998\n",
            "Iteration No. 36\n",
            "Static Model - New 1000 - Precision:  0.997   Recall:  0.997   F1 Score:  0.997\n",
            "Dynamic Model - New 1000 - Precision:  0.998   Recall:  0.998   F1 Score:  0.998\n",
            "Iteration No. 37\n",
            "Static Model - New 1000 - Precision:  0.997   Recall:  0.997   F1 Score:  0.997\n",
            "Dynamic Model - New 1000 - Precision:  0.997   Recall:  0.997   F1 Score:  0.997\n",
            "Iteration No. 38\n",
            "Static Model - New 1000 - Precision:  0.998   Recall:  0.998   F1 Score:  0.998\n",
            "Dynamic Model - New 1000 - Precision:  0.997   Recall:  0.997   F1 Score:  0.997\n",
            "Iteration No. 39\n",
            "Static Model - New 1000 - Precision:  0.995   Recall:  0.995   F1 Score:  0.995\n",
            "Dynamic Model - New 1000 - Precision:  0.995   Recall:  0.995   F1 Score:  0.995\n",
            "Iteration No. 40\n",
            "Static Model - New 1000 - Precision:  0.996   Recall:  0.996   F1 Score:  0.996\n",
            "Dynamic Model - New 1000 - Precision:  0.998   Recall:  0.998   F1 Score:  0.998\n",
            "Iteration No. 41\n",
            "Static Model - New 1000 - Precision:  0.998   Recall:  0.998   F1 Score:  0.998\n",
            "Dynamic Model - New 1000 - Precision:  0.996   Recall:  0.996   F1 Score:  0.996\n",
            "Iteration No. 42\n",
            "Static Model - New 1000 - Precision:  0.996   Recall:  0.996   F1 Score:  0.996\n",
            "Dynamic Model - New 1000 - Precision:  0.996   Recall:  0.996   F1 Score:  0.996\n",
            "Iteration No. 43\n",
            "Static Model - New 1000 - Precision:  0.994   Recall:  0.994   F1 Score:  0.994\n",
            "Dynamic Model - New 1000 - Precision:  0.994   Recall:  0.994   F1 Score:  0.994\n",
            "Iteration No. 44\n",
            "Static Model - New 1000 - Precision:  0.997   Recall:  0.997   F1 Score:  0.997\n",
            "Dynamic Model - New 1000 - Precision:  0.996   Recall:  0.996   F1 Score:  0.996\n",
            "Iteration No. 45\n",
            "Static Model - New 1000 - Precision:  0.996   Recall:  0.996   F1 Score:  0.996\n",
            "Dynamic Model - New 1000 - Precision:  0.996   Recall:  0.996   F1 Score:  0.996\n",
            "Iteration No. 46\n",
            "Static Model - New 1000 - Precision:  0.999   Recall:  0.999   F1 Score:  0.999\n",
            "Dynamic Model - New 1000 - Precision:  0.998   Recall:  0.998   F1 Score:  0.998\n",
            "Iteration No. 47\n",
            "Static Model - New 1000 - Precision:  1.0   Recall:  1.0   F1 Score:  1.0\n",
            "Dynamic Model - New 1000 - Precision:  0.999   Recall:  0.999   F1 Score:  0.999\n",
            "Iteration No. 48\n",
            "Static Model - New 1000 - Precision:  0.997   Recall:  0.997   F1 Score:  0.997\n",
            "Dynamic Model - New 1000 - Precision:  0.996   Recall:  0.996   F1 Score:  0.996\n",
            "Iteration No. 49\n",
            "Static Model - New 1000 - Precision:  0.999   Recall:  0.999   F1 Score:  0.999\n",
            "Dynamic Model - New 1000 - Precision:  0.999   Recall:  0.999   F1 Score:  0.999\n",
            "Iteration No. 50\n",
            "Static Model - New 1000 - Precision:  0.994   Recall:  0.994   F1 Score:  0.994\n",
            "Dynamic Model - New 1000 - Precision:  0.996   Recall:  0.996   F1 Score:  0.996\n",
            "Iteration No. 51\n",
            "Static Model - New 1000 - Precision:  0.996   Recall:  0.996   F1 Score:  0.996\n",
            "Dynamic Model - New 1000 - Precision:  0.996   Recall:  0.996   F1 Score:  0.996\n",
            "Iteration No. 52\n",
            "Static Model - New 1000 - Precision:  0.998   Recall:  0.998   F1 Score:  0.998\n",
            "Dynamic Model - New 1000 - Precision:  0.998   Recall:  0.998   F1 Score:  0.998\n",
            "Iteration No. 53\n",
            "Static Model - New 1000 - Precision:  0.999   Recall:  0.999   F1 Score:  0.999\n",
            "Dynamic Model - New 1000 - Precision:  0.999   Recall:  0.999   F1 Score:  0.999\n",
            "Iteration No. 54\n",
            "Static Model - New 1000 - Precision:  0.999   Recall:  0.999   F1 Score:  0.999\n",
            "Dynamic Model - New 1000 - Precision:  0.998   Recall:  0.998   F1 Score:  0.998\n",
            "Iteration No. 55\n",
            "Static Model - New 1000 - Precision:  0.992   Recall:  0.992   F1 Score:  0.992\n",
            "Dynamic Model - New 1000 - Precision:  0.993   Recall:  0.993   F1 Score:  0.993\n",
            "Iteration No. 56\n",
            "Static Model - New 1000 - Precision:  0.994   Recall:  0.994   F1 Score:  0.994\n",
            "Dynamic Model - New 1000 - Precision:  0.993   Recall:  0.993   F1 Score:  0.993\n",
            "Iteration No. 57\n",
            "Static Model - New 1000 - Precision:  0.997   Recall:  0.997   F1 Score:  0.997\n",
            "Dynamic Model - New 1000 - Precision:  0.996   Recall:  0.996   F1 Score:  0.996\n",
            "Iteration No. 58\n",
            "Static Model - New 1000 - Precision:  0.995   Recall:  0.995   F1 Score:  0.995\n",
            "Dynamic Model - New 1000 - Precision:  0.996   Recall:  0.996   F1 Score:  0.996\n",
            "Iteration No. 59\n",
            "Static Model - New 1000 - Precision:  0.999   Recall:  0.999   F1 Score:  0.999\n",
            "Dynamic Model - New 1000 - Precision:  0.999   Recall:  0.999   F1 Score:  0.999\n",
            "Iteration No. 60\n",
            "Static Model - New 1000 - Precision:  0.994   Recall:  0.994   F1 Score:  0.994\n",
            "Dynamic Model - New 1000 - Precision:  0.996   Recall:  0.996   F1 Score:  0.996\n",
            "Iteration No. 61\n",
            "Static Model - New 1000 - Precision:  1.0   Recall:  1.0   F1 Score:  1.0\n",
            "Dynamic Model - New 1000 - Precision:  1.0   Recall:  1.0   F1 Score:  1.0\n",
            "Iteration No. 62\n",
            "Static Model - New 1000 - Precision:  0.997   Recall:  0.997   F1 Score:  0.997\n",
            "Dynamic Model - New 1000 - Precision:  0.997   Recall:  0.997   F1 Score:  0.997\n",
            "Iteration No. 63\n",
            "Static Model - New 1000 - Precision:  0.992   Recall:  0.992   F1 Score:  0.992\n",
            "Dynamic Model - New 1000 - Precision:  0.994   Recall:  0.994   F1 Score:  0.994\n",
            "Iteration No. 64\n",
            "Static Model - New 1000 - Precision:  0.998   Recall:  0.998   F1 Score:  0.998\n",
            "Dynamic Model - New 1000 - Precision:  0.999   Recall:  0.999   F1 Score:  0.999\n",
            "Iteration No. 65\n",
            "Static Model - New 1000 - Precision:  0.999   Recall:  0.999   F1 Score:  0.999\n",
            "Dynamic Model - New 1000 - Precision:  0.998   Recall:  0.998   F1 Score:  0.998\n",
            "Iteration No. 66\n",
            "Static Model - New 1000 - Precision:  0.998   Recall:  0.998   F1 Score:  0.998\n",
            "Dynamic Model - New 1000 - Precision:  0.996   Recall:  0.996   F1 Score:  0.996\n",
            "Iteration No. 67\n",
            "Static Model - New 1000 - Precision:  0.997   Recall:  0.997   F1 Score:  0.997\n",
            "Dynamic Model - New 1000 - Precision:  0.997   Recall:  0.997   F1 Score:  0.997\n",
            "Iteration No. 68\n",
            "Static Model - New 1000 - Precision:  0.998   Recall:  0.998   F1 Score:  0.998\n",
            "Dynamic Model - New 1000 - Precision:  0.998   Recall:  0.998   F1 Score:  0.998\n",
            "Iteration No. 69\n",
            "Static Model - New 1000 - Precision:  0.993   Recall:  0.993   F1 Score:  0.993\n",
            "Dynamic Model - New 1000 - Precision:  0.995   Recall:  0.995   F1 Score:  0.995\n",
            "Iteration No. 70\n",
            "Static Model - New 1000 - Precision:  0.997   Recall:  0.997   F1 Score:  0.997\n",
            "Dynamic Model - New 1000 - Precision:  0.997   Recall:  0.997   F1 Score:  0.997\n",
            "Iteration No. 71\n",
            "Static Model - New 1000 - Precision:  0.997   Recall:  0.997   F1 Score:  0.997\n",
            "Dynamic Model - New 1000 - Precision:  0.994   Recall:  0.994   F1 Score:  0.994\n",
            "Iteration No. 72\n",
            "Static Model - New 1000 - Precision:  0.996   Recall:  0.996   F1 Score:  0.996\n",
            "Dynamic Model - New 1000 - Precision:  0.997   Recall:  0.997   F1 Score:  0.997\n",
            "Iteration No. 73\n",
            "Static Model - New 1000 - Precision:  0.993   Recall:  0.993   F1 Score:  0.993\n",
            "Dynamic Model - New 1000 - Precision:  0.991   Recall:  0.991   F1 Score:  0.991\n",
            "Iteration No. 74\n",
            "Static Model - New 1000 - Precision:  0.996   Recall:  0.996   F1 Score:  0.996\n",
            "Dynamic Model - New 1000 - Precision:  0.999   Recall:  0.999   F1 Score:  0.999\n",
            "Iteration No. 75\n",
            "Static Model - New 1000 - Precision:  0.998   Recall:  0.998   F1 Score:  0.998\n",
            "Dynamic Model - New 1000 - Precision:  0.997   Recall:  0.997   F1 Score:  0.997\n",
            "Iteration No. 76\n",
            "Static Model - New 1000 - Precision:  0.995   Recall:  0.995   F1 Score:  0.995\n",
            "Dynamic Model - New 1000 - Precision:  0.993   Recall:  0.993   F1 Score:  0.993\n",
            "Iteration No. 77\n",
            "Static Model - New 1000 - Precision:  0.998   Recall:  0.998   F1 Score:  0.998\n",
            "Dynamic Model - New 1000 - Precision:  0.998   Recall:  0.998   F1 Score:  0.998\n",
            "Iteration No. 78\n",
            "Static Model - New 1000 - Precision:  0.997   Recall:  0.997   F1 Score:  0.997\n",
            "Dynamic Model - New 1000 - Precision:  0.994   Recall:  0.994   F1 Score:  0.994\n",
            "Iteration No. 79\n",
            "Static Model - New 1000 - Precision:  0.996   Recall:  0.996   F1 Score:  0.996\n",
            "Dynamic Model - New 1000 - Precision:  0.994   Recall:  0.994   F1 Score:  0.994\n",
            "Iteration No. 80\n",
            "Static Model - New 1000 - Precision:  1.0   Recall:  1.0   F1 Score:  1.0\n",
            "Dynamic Model - New 1000 - Precision:  1.0   Recall:  1.0   F1 Score:  1.0\n",
            "Iteration No. 81\n",
            "Static Model - New 1000 - Precision:  0.998   Recall:  0.998   F1 Score:  0.998\n",
            "Dynamic Model - New 1000 - Precision:  0.999   Recall:  0.999   F1 Score:  0.999\n",
            "Iteration No. 82\n",
            "Static Model - New 1000 - Precision:  0.998   Recall:  0.998   F1 Score:  0.998\n",
            "Dynamic Model - New 1000 - Precision:  0.998   Recall:  0.998   F1 Score:  0.998\n",
            "Iteration No. 83\n",
            "Static Model - New 1000 - Precision:  0.995   Recall:  0.995   F1 Score:  0.995\n",
            "Dynamic Model - New 1000 - Precision:  0.996   Recall:  0.996   F1 Score:  0.996\n",
            "Iteration No. 84\n",
            "Static Model - New 1000 - Precision:  0.997   Recall:  0.997   F1 Score:  0.997\n",
            "Dynamic Model - New 1000 - Precision:  0.998   Recall:  0.998   F1 Score:  0.998\n",
            "Iteration No. 85\n",
            "Static Model - New 1000 - Precision:  0.998   Recall:  0.998   F1 Score:  0.998\n",
            "Dynamic Model - New 1000 - Precision:  0.998   Recall:  0.998   F1 Score:  0.998\n",
            "Iteration No. 86\n",
            "Static Model - New 1000 - Precision:  0.999   Recall:  0.999   F1 Score:  0.999\n",
            "Dynamic Model - New 1000 - Precision:  0.998   Recall:  0.998   F1 Score:  0.998\n",
            "Iteration No. 87\n",
            "Static Model - New 1000 - Precision:  0.998   Recall:  0.998   F1 Score:  0.998\n",
            "Dynamic Model - New 1000 - Precision:  0.997   Recall:  0.997   F1 Score:  0.997\n",
            "Iteration No. 88\n",
            "Static Model - New 1000 - Precision:  0.998   Recall:  0.998   F1 Score:  0.998\n",
            "Dynamic Model - New 1000 - Precision:  0.998   Recall:  0.998   F1 Score:  0.998\n",
            "Iteration No. 89\n",
            "Static Model - New 1000 - Precision:  0.996   Recall:  0.996   F1 Score:  0.996\n",
            "Dynamic Model - New 1000 - Precision:  0.995   Recall:  0.995   F1 Score:  0.995\n",
            "Iteration No. 90\n",
            "Static Model - New 1000 - Precision:  0.998   Recall:  0.998   F1 Score:  0.998\n",
            "Dynamic Model - New 1000 - Precision:  0.998   Recall:  0.998   F1 Score:  0.998\n",
            "Iteration No. 91\n",
            "Static Model - New 1000 - Precision:  0.997   Recall:  0.997   F1 Score:  0.997\n",
            "Dynamic Model - New 1000 - Precision:  0.996   Recall:  0.996   F1 Score:  0.996\n",
            "Iteration No. 92\n",
            "Static Model - New 1000 - Precision:  0.997   Recall:  0.997   F1 Score:  0.997\n",
            "Dynamic Model - New 1000 - Precision:  0.996   Recall:  0.996   F1 Score:  0.996\n",
            "Iteration No. 93\n",
            "Static Model - New 1000 - Precision:  1.0   Recall:  1.0   F1 Score:  1.0\n",
            "Dynamic Model - New 1000 - Precision:  1.0   Recall:  1.0   F1 Score:  1.0\n",
            "Iteration No. 94\n",
            "Static Model - New 1000 - Precision:  0.996   Recall:  0.996   F1 Score:  0.996\n",
            "Dynamic Model - New 1000 - Precision:  0.996   Recall:  0.996   F1 Score:  0.996\n",
            "Iteration No. 95\n",
            "Static Model - New 1000 - Precision:  0.996   Recall:  0.996   F1 Score:  0.996\n",
            "Dynamic Model - New 1000 - Precision:  0.997   Recall:  0.997   F1 Score:  0.997\n",
            "Iteration No. 96\n",
            "Static Model - New 1000 - Precision:  0.996   Recall:  0.996   F1 Score:  0.996\n",
            "Dynamic Model - New 1000 - Precision:  0.996   Recall:  0.996   F1 Score:  0.996\n",
            "Iteration No. 97\n",
            "Static Model - New 1000 - Precision:  0.995   Recall:  0.995   F1 Score:  0.995\n",
            "Dynamic Model - New 1000 - Precision:  0.995   Recall:  0.995   F1 Score:  0.995\n",
            "Iteration No. 98\n",
            "Static Model - New 1000 - Precision:  0.995   Recall:  0.995   F1 Score:  0.995\n",
            "Dynamic Model - New 1000 - Precision:  0.996   Recall:  0.996   F1 Score:  0.996\n",
            "Iteration No. 99\n",
            "Static Model - New 1000 - Precision:  0.992   Recall:  0.992   F1 Score:  0.992\n",
            "Dynamic Model - New 1000 - Precision:  0.993   Recall:  0.993   F1 Score:  0.993\n"
          ]
        }
      ]
    },
    {
      "cell_type": "markdown",
      "metadata": {
        "id": "SFeyD_ACW-G3"
      },
      "source": [
        "## Plotting the results"
      ]
    },
    {
      "cell_type": "code",
      "metadata": {
        "colab": {
          "base_uri": "https://localhost:8080/"
        },
        "id": "6IuobIbbtl6n",
        "outputId": "39bc46d3-2817-4e75-87b8-1925c7515b0f"
      },
      "source": [
        "np.array(static_scores)[:,2]"
      ],
      "execution_count": 25,
      "outputs": [
        {
          "output_type": "execute_result",
          "data": {
            "text/plain": [
              "array([0.999, 0.997, 0.996, 0.997, 0.996, 0.995, 0.998, 0.996, 0.997,\n",
              "       0.999, 0.998, 0.999, 0.995, 0.997, 0.997, 0.996, 0.997, 0.995,\n",
              "       0.997, 0.995, 0.997, 0.999, 0.99, 0.998, 0.994, 0.998, 0.995,\n",
              "       0.993, 0.993, 0.999, 0.994, 0.999, 0.996, 0.996, 0.998, 0.997,\n",
              "       0.997, 0.998, 0.995, 0.996, 0.998, 0.996, 0.994, 0.997, 0.996,\n",
              "       0.999, 1.0, 0.997, 0.999, 0.994, 0.996, 0.998, 0.999, 0.999, 0.992,\n",
              "       0.994, 0.997, 0.995, 0.999, 0.994, 1.0, 0.997, 0.992, 0.998, 0.999,\n",
              "       0.998, 0.997, 0.998, 0.993, 0.997, 0.997, 0.996, 0.993, 0.996,\n",
              "       0.998, 0.995, 0.998, 0.997, 0.996, 1.0, 0.998, 0.998, 0.995, 0.997,\n",
              "       0.998, 0.999, 0.998, 0.998, 0.996, 0.998, 0.997, 0.997, 1.0, 0.996,\n",
              "       0.996, 0.996, 0.995, 0.995, 0.992], dtype=object)"
            ]
          },
          "metadata": {},
          "execution_count": 25
        }
      ]
    },
    {
      "cell_type": "code",
      "metadata": {
        "colab": {
          "base_uri": "https://localhost:8080/",
          "height": 441
        },
        "id": "c-f-Jmp8uSpe",
        "outputId": "21876dd5-f12d-4a32-c104-6dd33ebf5b16"
      },
      "source": [
        "\n",
        "figure(figsize=(15, 6))\n",
        "x_axis = list(range(0,99))\n",
        "\n",
        "plt.plot(x_axis, np.array(static_scores)[:,2], label='Static model scores')\n",
        "plt.plot(x_axis, np.array(dynamic_scores)[:,2],linestyle='dashed' , label='Dynamic model scores')\n",
        "\n",
        "plt.title(\"Scores over Iterations\")\n",
        "plt.xlabel(\"Iteration Number\")\n",
        "plt.ylabel(\"F1 Score\")\n",
        "plt.xticks(list(range(0,99,2)))\n",
        "plt.legend()\n",
        "plt.tight_layout()\n",
        "plt.show()"
      ],
      "execution_count": 26,
      "outputs": [
        {
          "output_type": "display_data",
          "data": {
            "image/png": "[encoded data removed]",
            "text/plain": [
              "<Figure size 1080x432 with 1 Axes>"
            ]
          },
          "metadata": {
            "needs_background": "light"
          }
        }
      ]
    },
    {
      "cell_type": "markdown",
      "metadata": {
        "id": "d5cEXIEcsp05"
      },
      "source": [
        "The average of all iterations precision, recall and F1 scores."
      ]
    },
    {
      "cell_type": "code",
      "metadata": {
        "colab": {
          "base_uri": "https://localhost:8080/"
        },
        "id": "wEkv34ia28r4",
        "outputId": "016bfb63-f862-4c4b-b0a1-9ccac4efbad4"
      },
      "source": [
        "static_avg_precision = np.array(static_scores)[:,0].mean()\n",
        "static_avg_recall = np.array(static_scores)[:,1].mean()\n",
        "stativ_avg_f1_score = np.array(static_scores)[:,2].mean()\n",
        "\n",
        "dynamic_avg_precision = np.array(dynamic_scores)[:,0].mean()\n",
        "dynamic_avg_recall = np.array(dynamic_scores)[:,1].mean()\n",
        "dynamic_avg_f1_score = np.array(dynamic_scores)[:,2].mean()\n",
        "\n",
        "print('Static Model average precision: ',static_avg_precision,' average recall: ',static_avg_recall,' average f1_score: ',stativ_avg_f1_score)\n",
        "print('Dynamic Model average precision: ',dynamic_avg_precision,' average recall: ',dynamic_avg_recall,' average f1_score: ',stativ_avg_f1_score)"
      ],
      "execution_count": 27,
      "outputs": [
        {
          "output_type": "stream",
          "name": "stdout",
          "text": [
            "Static Model average precision:  0.9966161616161618  average recall:  0.9966161616161618  average f1_score:  0.9966161616161618\n",
            "Dynamic Model average precision:  0.9964343434343437  average recall:  0.9964343434343437  average f1_score:  0.9966161616161618\n"
          ]
        }
      ]
    },
    {
      "cell_type": "markdown",
      "metadata": {
        "id": "70SvS7oRfVNC"
      },
      "source": [
        "# Problem 2"
      ]
    },
    {
      "cell_type": "markdown",
      "metadata": {
        "id": "VlTyMSCXLpdE"
      },
      "source": [
        "## Reading and Preprocessing the data"
      ]
    },
    {
      "cell_type": "markdown",
      "metadata": {
        "id": "pKcrkZ6BZn0B"
      },
      "source": [
        "Read the data"
      ]
    },
    {
      "cell_type": "code",
      "metadata": {
        "id": "mNMRKj8RfYS4"
      },
      "source": [
        "iot = pd.read_csv('/content/drive/MyDrive/AIforCS/Kafka/iot_static_data.csv')"
      ],
      "execution_count": 28,
      "outputs": []
    },
    {
      "cell_type": "code",
      "metadata": {
        "colab": {
          "base_uri": "https://localhost:8080/"
        },
        "id": "FZzBZhsdfiUw",
        "outputId": "c1704de5-287c-41c4-9abc-fde9f3cf8f88"
      },
      "source": [
        "iot.info()"
      ],
      "execution_count": 29,
      "outputs": [
        {
          "output_type": "stream",
          "name": "stdout",
          "text": [
            "<class 'pandas.core.frame.DataFrame'>\n",
            "RangeIndex: 25609 entries, 0 to 25608\n",
            "Columns: 117 entries, MI_dir_L5_weight to Class\n",
            "dtypes: float64(115), object(2)\n",
            "memory usage: 22.9+ MB\n"
          ]
        }
      ]
    },
    {
      "cell_type": "code",
      "metadata": {
        "id": "2UkKMsJtOPSv"
      },
      "source": [
        "obj_cols = iot.select_dtypes(include=['object']).columns"
      ],
      "execution_count": 30,
      "outputs": []
    },
    {
      "cell_type": "code",
      "metadata": {
        "colab": {
          "base_uri": "https://localhost:8080/"
        },
        "id": "y15NMFs3PAK_",
        "outputId": "251eb417-8a4c-458b-d97b-b28a4fa00697"
      },
      "source": [
        "obj_cols"
      ],
      "execution_count": 31,
      "outputs": [
        {
          "output_type": "execute_result",
          "data": {
            "text/plain": [
              "Index(['Source', 'Class'], dtype='object')"
            ]
          },
          "metadata": {},
          "execution_count": 31
        }
      ]
    },
    {
      "cell_type": "code",
      "metadata": {
        "colab": {
          "base_uri": "https://localhost:8080/"
        },
        "id": "gBb5sKiLI_2L",
        "outputId": "6c3c0739-04d7-408d-8272-1e8747e5edf7"
      },
      "source": [
        "iot.columns.get_loc(\"Source\")"
      ],
      "execution_count": 32,
      "outputs": [
        {
          "output_type": "execute_result",
          "data": {
            "text/plain": [
              "115"
            ]
          },
          "metadata": {},
          "execution_count": 32
        }
      ]
    },
    {
      "cell_type": "code",
      "metadata": {
        "colab": {
          "base_uri": "https://localhost:8080/"
        },
        "id": "bgrX-Is_PVlQ",
        "outputId": "27bf2b93-4483-4353-ab68-235651b667be"
      },
      "source": [
        "iot['Source'].value_counts()"
      ],
      "execution_count": 33,
      "outputs": [
        {
          "output_type": "execute_result",
          "data": {
            "text/plain": [
              "Philips B120N10 Baby Monitor                7575\n",
              "Provision PT 838 Security Camera            4557\n",
              "Provision PT 737E Security Camera           2820\n",
              "Danmini Doorbell                            2602\n",
              "SimpleHome XCS7 1002 WHT Security Camera    2338\n",
              "Samsung SNH 1011 N Webcam                   2187\n",
              "Ennio Doorbell                              1701\n",
              "Ecobee Thermostat                            954\n",
              "SimpleHome XCS7 1003 WHT Security Camera     875\n",
              "Name: Source, dtype: int64"
            ]
          },
          "metadata": {},
          "execution_count": 33
        }
      ]
    },
    {
      "cell_type": "code",
      "metadata": {
        "id": "wZ53FjmrQyvy"
      },
      "source": [
        "iot.drop('Source',axis=1,inplace=True)"
      ],
      "execution_count": 34,
      "outputs": []
    },
    {
      "cell_type": "code",
      "metadata": {
        "colab": {
          "base_uri": "https://localhost:8080/"
        },
        "id": "ITppr25HR90p",
        "outputId": "cada6976-fca7-4691-ba16-4153b86668a2"
      },
      "source": [
        "iot['Class'].value_counts()"
      ],
      "execution_count": 35,
      "outputs": [
        {
          "output_type": "execute_result",
          "data": {
            "text/plain": [
              "BENIGN                   22287\n",
              "mirai_udp_attack          1774\n",
              "gafgyt_udp_attack          446\n",
              "gafgyt_junk_attack         377\n",
              "gafgyt_tcp_attack          213\n",
              "gafgyt_scan_attack         200\n",
              "mirai_syn_attack           101\n",
              "mirai_ack_attack            96\n",
              "mirai_scan_attack           86\n",
              "gafgyt_combo_attack         18\n",
              "mirai_udpplain_attack       11\n",
              "Name: Class, dtype: int64"
            ]
          },
          "metadata": {},
          "execution_count": 35
        }
      ]
    },
    {
      "cell_type": "code",
      "metadata": {
        "id": "jriUXm9FPBUP"
      },
      "source": [
        "iot = iot.replace([-np.inf,np.inf], np.nan).dropna()"
      ],
      "execution_count": 36,
      "outputs": []
    },
    {
      "cell_type": "markdown",
      "metadata": {
        "id": "UzDzZ-MzZX8I"
      },
      "source": [
        "Ecoding the Label"
      ]
    },
    {
      "cell_type": "code",
      "metadata": {
        "id": "qRkVKmSQUlyT"
      },
      "source": [
        "from sklearn.preprocessing import LabelEncoder\n",
        "le = LabelEncoder()\n",
        "iot['Class'] = le.fit_transform(iot['Class'])"
      ],
      "execution_count": 37,
      "outputs": []
    },
    {
      "cell_type": "code",
      "metadata": {
        "id": "MzsTSaE2RmNR"
      },
      "source": [
        "y_iot = iot['Class']\n",
        "X_iot = iot.drop('Class',axis=1)"
      ],
      "execution_count": 38,
      "outputs": []
    },
    {
      "cell_type": "markdown",
      "metadata": {
        "id": "hmQ1aRlBZucw"
      },
      "source": [
        "Sclaing the data using 0 mean normlization"
      ]
    },
    {
      "cell_type": "code",
      "metadata": {
        "id": "7vsIcQPsPUXf"
      },
      "source": [
        "scaler = StandardScaler()\n",
        "X_iot = scaler.fit_transform(X_iot.to_numpy())"
      ],
      "execution_count": 39,
      "outputs": []
    },
    {
      "cell_type": "markdown",
      "metadata": {
        "id": "nSYAjMYYZxEg"
      },
      "source": [
        "Splitting the data to train and test"
      ]
    },
    {
      "cell_type": "code",
      "metadata": {
        "id": "SpEQRXiaVbGJ"
      },
      "source": [
        "X_train, X_test, y_train, y_test = train_test_split(X_iot, y_iot, test_size=0.20, random_state=42,stratify=y_iot)"
      ],
      "execution_count": 40,
      "outputs": []
    },
    {
      "cell_type": "markdown",
      "metadata": {
        "id": "y7OBW9i3MCuf"
      },
      "source": [
        "## Training and Testing"
      ]
    },
    {
      "cell_type": "markdown",
      "metadata": {
        "id": "TaOheGzVMGEG"
      },
      "source": [
        "Random forest"
      ]
    },
    {
      "cell_type": "code",
      "metadata": {
        "colab": {
          "base_uri": "https://localhost:8080/"
        },
        "id": "rStD7JxkD9yh",
        "outputId": "21808bdd-0b34-41c8-ca49-da09b38b0c8a"
      },
      "source": [
        "# Create the random grid\n",
        "param_grid = {\n",
        "    'max_depth': [10, 20, 30],\n",
        "    'max_features': ['auto'],\n",
        "    'min_samples_leaf': [2,3, 4],\n",
        "    'min_samples_split': [2,3,4],\n",
        "    'n_estimators': [5, 10, 20],\n",
        "    'ccp_alpha':[0.01,0.1,0]\n",
        "}\n",
        "# Create a based model\n",
        "rf = RandomForestClassifier(random_state=0)\n",
        "# Instantiate the grid search model\n",
        "grid_search = GridSearchCV(estimator = rf, param_grid = param_grid, \n",
        "                          cv = 3, n_jobs = -1, verbose = 2)\n",
        "grid_search.fit(X_train, y_train)"
      ],
      "execution_count": 41,
      "outputs": [
        {
          "output_type": "stream",
          "name": "stdout",
          "text": [
            "Fitting 3 folds for each of 243 candidates, totalling 729 fits\n"
          ]
        },
        {
          "output_type": "execute_result",
          "data": {
            "text/plain": [
              "GridSearchCV(cv=3, estimator=RandomForestClassifier(random_state=0), n_jobs=-1,\n",
              "             param_grid={'ccp_alpha': [0.01, 0.1, 0], 'max_depth': [10, 20, 30],\n",
              "                         'max_features': ['auto'],\n",
              "                         'min_samples_leaf': [2, 3, 4],\n",
              "                         'min_samples_split': [2, 3, 4],\n",
              "                         'n_estimators': [5, 10, 20]},\n",
              "             verbose=2)"
            ]
          },
          "metadata": {},
          "execution_count": 41
        }
      ]
    },
    {
      "cell_type": "code",
      "metadata": {
        "colab": {
          "base_uri": "https://localhost:8080/"
        },
        "id": "lX4MyKFvEG3C",
        "outputId": "858dce95-9234-44d8-e68a-deb1137a45fd"
      },
      "source": [
        "grid_search.best_params_"
      ],
      "execution_count": 42,
      "outputs": [
        {
          "output_type": "execute_result",
          "data": {
            "text/plain": [
              "{'ccp_alpha': 0,\n",
              " 'max_depth': 10,\n",
              " 'max_features': 'auto',\n",
              " 'min_samples_leaf': 2,\n",
              " 'min_samples_split': 2,\n",
              " 'n_estimators': 10}"
            ]
          },
          "metadata": {},
          "execution_count": 42
        }
      ]
    },
    {
      "cell_type": "code",
      "metadata": {
        "colab": {
          "base_uri": "https://localhost:8080/"
        },
        "id": "iIAyve46VB-a",
        "outputId": "ee107f69-e0bc-4423-fce4-56fefba2b27a"
      },
      "source": [
        "static_rf = RandomForestClassifier(random_state=0,\n",
        "                                   ccp_alpha= 0,\n",
        "                                   max_depth= 10,\n",
        "                                   max_features= 'auto',\n",
        "                                   min_samples_leaf= 2,\n",
        "                                   min_samples_split= 2,\n",
        "                                   n_estimators= 10)\n",
        "static_rf.fit(X_train, y_train)\n",
        "static_rf.score(X_test, y_test)"
      ],
      "execution_count": 43,
      "outputs": [
        {
          "output_type": "execute_result",
          "data": {
            "text/plain": [
              "0.9992190550566185"
            ]
          },
          "metadata": {},
          "execution_count": 43
        }
      ]
    },
    {
      "cell_type": "code",
      "metadata": {
        "colab": {
          "base_uri": "https://localhost:8080/"
        },
        "id": "0NmJAg1xWJBC",
        "outputId": "a582a535-6a5c-4682-84b4-0890fe1254e1"
      },
      "source": [
        "y_pred = static_rf.predict(X_test)\n",
        "precision_recall_fscore_support(y_test, y_pred , average=None , labels=list(range(0,11)))[2]"
      ],
      "execution_count": 44,
      "outputs": [
        {
          "output_type": "execute_result",
          "data": {
            "text/plain": [
              "array([1.        , 0.57142857, 0.97333333, 0.98765432, 1.        ,\n",
              "       1.        , 1.        , 1.        , 1.        , 1.        ,\n",
              "       1.        ])"
            ]
          },
          "metadata": {},
          "execution_count": 44
        }
      ]
    },
    {
      "cell_type": "code",
      "metadata": {
        "colab": {
          "base_uri": "https://localhost:8080/"
        },
        "id": "9NG1eSuAPhQB",
        "outputId": "ad493e85-33eb-4caf-8c68-86b6f8c36d67"
      },
      "source": [
        "score = precision_recall_fscore_support(y_test, y_pred,average='weighted')\n",
        "print('Precision: ',score[0],'\\nRecall: ',score[1],'\\nF1 Score: ',score[2])"
      ],
      "execution_count": 45,
      "outputs": [
        {
          "output_type": "stream",
          "name": "stdout",
          "text": [
            "Precision:  0.9991587381707476 \n",
            "Recall:  0.9992190550566185 \n",
            "F1 Score:  0.9991784238823156\n"
          ]
        }
      ]
    },
    {
      "cell_type": "code",
      "metadata": {
        "colab": {
          "base_uri": "https://localhost:8080/",
          "height": 296
        },
        "id": "M5QTXGgrjchd",
        "outputId": "fa3c47a8-58ed-436c-8fa3-5f3e9e7f5a51"
      },
      "source": [
        "from sklearn.metrics import ConfusionMatrixDisplay\n",
        "import matplotlib.pyplot as plt\n",
        "ConfusionMatrixDisplay.from_estimator(static_rf, X_test, y_test,cmap=plt.cm.Blues)"
      ],
      "execution_count": 46,
      "outputs": [
        {
          "output_type": "execute_result",
          "data": {
            "text/plain": [
              "<sklearn.metrics._plot.confusion_matrix.ConfusionMatrixDisplay at 0x7f1bfa88f890>"
            ]
          },
          "metadata": {},
          "execution_count": 46
        },
        {
          "output_type": "display_data",
          "data": {
            "image/png": "[encoded data removed]",
            "text/plain": [
              "<Figure size 432x288 with 2 Axes>"
            ]
          },
          "metadata": {
            "needs_background": "light"
          }
        }
      ]
    },
    {
      "cell_type": "code",
      "metadata": {
        "colab": {
          "base_uri": "https://localhost:8080/"
        },
        "id": "EAz9MY_VWPDS",
        "outputId": "78f66f4a-3232-4fac-f633-a4dea6dc12f8"
      },
      "source": [
        "le.inverse_transform(list(range(0,11)))"
      ],
      "execution_count": 47,
      "outputs": [
        {
          "output_type": "execute_result",
          "data": {
            "text/plain": [
              "array(['BENIGN', 'gafgyt_combo_attack', 'gafgyt_junk_attack',\n",
              "       'gafgyt_scan_attack', 'gafgyt_tcp_attack', 'gafgyt_udp_attack',\n",
              "       'mirai_ack_attack', 'mirai_scan_attack', 'mirai_syn_attack',\n",
              "       'mirai_udp_attack', 'mirai_udpplain_attack'], dtype=object)"
            ]
          },
          "metadata": {},
          "execution_count": 47
        }
      ]
    },
    {
      "cell_type": "markdown",
      "metadata": {
        "id": "IBAw_7DQMKnI"
      },
      "source": [
        "GradientBoosting"
      ]
    },
    {
      "cell_type": "code",
      "metadata": {
        "colab": {
          "base_uri": "https://localhost:8080/"
        },
        "id": "rBVntDM5EZeg",
        "outputId": "edbc8020-0cc7-49eb-b6a3-977d83b33e42"
      },
      "source": [
        "# Create the random grid\n",
        "param_grid = {\n",
        "    'n_estimators': [5, 10, 20],\n",
        "    'learning_rate':[0.01,0.1,1]\n",
        "}\n",
        "# Create a based model\n",
        "ab = AdaBoostClassifier(random_state=0)\n",
        "# Instantiate the grid search model\n",
        "grid_search = GridSearchCV(estimator = ab, param_grid = param_grid, \n",
        "                          cv = 3, n_jobs = -1, verbose = 2)\n",
        "grid_search.fit(X_train, y_train)"
      ],
      "execution_count": 48,
      "outputs": [
        {
          "output_type": "stream",
          "name": "stdout",
          "text": [
            "Fitting 3 folds for each of 9 candidates, totalling 27 fits\n"
          ]
        },
        {
          "output_type": "execute_result",
          "data": {
            "text/plain": [
              "GridSearchCV(cv=3, estimator=AdaBoostClassifier(random_state=0), n_jobs=-1,\n",
              "             param_grid={'learning_rate': [0.01, 0.1, 1],\n",
              "                         'n_estimators': [5, 10, 20]},\n",
              "             verbose=2)"
            ]
          },
          "metadata": {},
          "execution_count": 48
        }
      ]
    },
    {
      "cell_type": "code",
      "metadata": {
        "colab": {
          "base_uri": "https://localhost:8080/"
        },
        "id": "OlWp-LHIEaTo",
        "outputId": "41e3b521-f04f-49bf-a8f8-9e0a59920ea2"
      },
      "source": [
        "grid_search.best_params_"
      ],
      "execution_count": 49,
      "outputs": [
        {
          "output_type": "execute_result",
          "data": {
            "text/plain": [
              "{'learning_rate': 0.1, 'n_estimators': 20}"
            ]
          },
          "metadata": {},
          "execution_count": 49
        }
      ]
    },
    {
      "cell_type": "code",
      "metadata": {
        "colab": {
          "base_uri": "https://localhost:8080/"
        },
        "id": "RSCfxZg6d3Tz",
        "outputId": "03e4cfaf-cc79-4eef-9766-13948553faa0"
      },
      "source": [
        "static_ab = AdaBoostClassifier(n_estimators=20, random_state=0,learning_rate= 0.1).fit(X_train, y_train)\n",
        "static_ab.score(X_test, y_test)"
      ],
      "execution_count": 50,
      "outputs": [
        {
          "output_type": "execute_result",
          "data": {
            "text/plain": [
              "0.9697383834439672"
            ]
          },
          "metadata": {},
          "execution_count": 50
        }
      ]
    },
    {
      "cell_type": "code",
      "metadata": {
        "colab": {
          "base_uri": "https://localhost:8080/"
        },
        "id": "DHRpeB6XeHrC",
        "outputId": "a15330e4-1ce7-46cc-f629-2f77112df352"
      },
      "source": [
        "y_pred = static_ab.predict(X_test)\n",
        "precision_recall_fscore_support(y_test, y_pred , average=None , labels=list(range(0,11)),zero_division=True)[2]"
      ],
      "execution_count": 51,
      "outputs": [
        {
          "output_type": "execute_result",
          "data": {
            "text/plain": [
              "array([0.98541114, 0.        , 0.96774194, 1.        , 0.        ,\n",
              "       0.        , 0.25      , 1.        , 0.97435897, 0.97796143,\n",
              "       0.        ])"
            ]
          },
          "metadata": {},
          "execution_count": 51
        }
      ]
    },
    {
      "cell_type": "code",
      "metadata": {
        "colab": {
          "base_uri": "https://localhost:8080/"
        },
        "id": "NTwLH6QHPt4g",
        "outputId": "983d4679-5346-4239-91ff-30af13a9d39d"
      },
      "source": [
        "score = precision_recall_fscore_support(y_test, y_pred, average='weighted')\n",
        "print('Precision: ',score[0],'\\nRecall: ',score[1],'\\nF1 Score: ',score[2])"
      ],
      "execution_count": 52,
      "outputs": [
        {
          "output_type": "stream",
          "name": "stdout",
          "text": [
            "Precision:  0.9426393216293537 \n",
            "Recall:  0.9697383834439672 \n",
            "F1 Score:  0.9554777426610505\n"
          ]
        },
        {
          "output_type": "stream",
          "name": "stderr",
          "text": [
            "/usr/local/lib/python3.7/dist-packages/sklearn/metrics/_classification.py:1308: UndefinedMetricWarning: Precision and F-score are ill-defined and being set to 0.0 in labels with no predicted samples. Use `zero_division` parameter to control this behavior.\n",
            "  _warn_prf(average, modifier, msg_start, len(result))\n"
          ]
        }
      ]
    },
    {
      "cell_type": "code",
      "metadata": {
        "colab": {
          "base_uri": "https://localhost:8080/",
          "height": 296
        },
        "id": "hRfdY3rSA76g",
        "outputId": "b3efa324-8315-449b-d084-7c19c82ad6e2"
      },
      "source": [
        "ConfusionMatrixDisplay.from_estimator(static_ab, X_test, y_test,cmap=plt.cm.Blues)"
      ],
      "execution_count": 53,
      "outputs": [
        {
          "output_type": "execute_result",
          "data": {
            "text/plain": [
              "<sklearn.metrics._plot.confusion_matrix.ConfusionMatrixDisplay at 0x7f1beffe0f10>"
            ]
          },
          "metadata": {},
          "execution_count": 53
        },
        {
          "output_type": "display_data",
          "data": {
            "image/png": "[encoded data removed]",
            "text/plain": [
              "<Figure size 432x288 with 2 Axes>"
            ]
          },
          "metadata": {
            "needs_background": "light"
          }
        }
      ]
    },
    {
      "cell_type": "markdown",
      "metadata": {
        "id": "o78zk39N-XyZ"
      },
      "source": [
        "Choosing random forest"
      ]
    },
    {
      "cell_type": "code",
      "metadata": {
        "id": "_ZZzfcz4-Y0h"
      },
      "source": [
        "dynamic_rf = deepcopy(static_rf)"
      ],
      "execution_count": 54,
      "outputs": []
    },
    {
      "cell_type": "code",
      "metadata": {
        "id": "ldaZy4RoeU52"
      },
      "source": [
        "# instantiate the KafkaConsumer Class using the arguments mentioned.\n",
        "# do not change any arguments other than the first positional argument.\n",
        "consumer = KafkaConsumer(\n",
        "    'task2',   # change this to \"task2\" for the IOT Botnet Detection  ---- important ----\n",
        "    bootstrap_servers=\"34.130.121.39:9092\",\n",
        "    sasl_plain_username=\"student\",\n",
        "    sasl_plain_password=\"uottawa\",\n",
        "    security_protocol=\"SASL_PLAINTEXT\",\n",
        "    sasl_mechanism=\"PLAIN\",\n",
        "    auto_offset_reset='earliest',\n",
        "    enable_auto_commit=False\n",
        ")"
      ],
      "execution_count": 55,
      "outputs": []
    },
    {
      "cell_type": "code",
      "metadata": {
        "colab": {
          "base_uri": "https://localhost:8080/"
        },
        "id": "fpdrLtbG9Whs",
        "outputId": "bdd6b635-45a5-48c4-d393-98846dc41493"
      },
      "source": [
        "# list of static model scores\n",
        "static_scores = []\n",
        "# list of dynamic model scores\n",
        "dynamic_scores = []\n",
        "\n",
        "for i in range(1,100):\n",
        "  # get data from kafka server.\n",
        "  X_d,y_d = get_data(consumer)\n",
        "\n",
        "  # preprocessing the gotten data.\n",
        "  X_d = np.delete(X_d, 115, axis=1)\n",
        "  y_d = le.transform(y_d)\n",
        "  iot = iot.replace([-np.inf,np.inf], np.nan).dropna()\n",
        "  X_d = scaler.transform(X_d) \n",
        "\n",
        "  print('Iteration No.',i)\n",
        "  try:\n",
        "    # test data from kafka using static model.\n",
        "    y_pred = static_rf.predict(X_d)\n",
        "    score = precision_recall_fscore_support(y_d, y_pred,zero_division=True,average='macro')\n",
        "    static_scores.append(score)\n",
        "    print('Static Model - New 1000 - Precision: ',score[0],'  Recall: ',score[1],'  F1 Score: ',score[2])\n",
        "    # test data from kafka using dynamic model.\n",
        "    y_pred = dynamic_rf.predict(X_d)\n",
        "    score = precision_recall_fscore_support(y_d, y_pred,zero_division=True,average='macro')\n",
        "    dynamic_scores.append(score)\n",
        "    print('Static Model - New 1000 - Precision: ',score[0],'  Recall: ',score[1],'  F1 Score: ',score[2])\n",
        "    # add the new data to the orignal data and remove the oldes with the same length.\n",
        "    X_new = X_iot\n",
        "    y_new = y_iot\n",
        "\n",
        "    X_new = X_new[:len(X_new)-1000]\n",
        "    y_new = y_new[:len(y_new)-1000]\n",
        "\n",
        "    X_new = np.concatenate((X_new, X_d), axis=0)\n",
        "    y_new = np.concatenate((y_new, y_d), axis=0)\n",
        "\n",
        "    # fitting the dynamic model using prepared data.\n",
        "    dynamic_rf = dynamic_rf.fit(X_new,y_new)\n",
        "  except Exception as e:\n",
        "    print(str(e))"
      ],
      "execution_count": 56,
      "outputs": [
        {
          "output_type": "stream",
          "name": "stdout",
          "text": [
            "Iteration No. 1\n",
            "Static Model - New 1000 - Precision:  0.9943181818181818   Recall:  0.9090909090909091   F1 Score:  0.9061583577712611\n",
            "Static Model - New 1000 - Precision:  0.9943181818181818   Recall:  0.9090909090909091   F1 Score:  0.9061583577712611\n",
            "Iteration No. 2\n",
            "Static Model - New 1000 - Precision:  0.975   Recall:  0.95   F1 Score:  0.9523809523809523\n",
            "Static Model - New 1000 - Precision:  0.975   Recall:  0.95   F1 Score:  0.9523809523809523\n",
            "Iteration No. 3\n",
            "Static Model - New 1000 - Precision:  1.0   Recall:  1.0   F1 Score:  1.0\n",
            "Static Model - New 1000 - Precision:  1.0   Recall:  1.0   F1 Score:  1.0\n",
            "Iteration No. 4\n",
            "Static Model - New 1000 - Precision:  0.9915530303030303   Recall:  0.8916666666666666   F1 Score:  0.8916098161834375\n",
            "Static Model - New 1000 - Precision:  0.9914396519107076   Recall:  0.8816666666666666   F1 Score:  0.8862898724082935\n",
            "Iteration No. 5\n",
            "Static Model - New 1000 - Precision:  0.9947368421052631   Recall:  0.9   F1 Score:  0.8972972972972972\n",
            "Static Model - New 1000 - Precision:  0.9947368421052631   Recall:  0.9   F1 Score:  0.8972972972972972\n",
            "Iteration No. 6\n",
            "Static Model - New 1000 - Precision:  1.0   Recall:  1.0   F1 Score:  1.0\n",
            "Static Model - New 1000 - Precision:  1.0   Recall:  1.0   F1 Score:  1.0\n",
            "Iteration No. 7\n",
            "Static Model - New 1000 - Precision:  0.9933333333333334   Recall:  0.9   F1 Score:  0.8965517241379309\n",
            "Static Model - New 1000 - Precision:  0.9933333333333334   Recall:  0.9   F1 Score:  0.8965517241379309\n",
            "Iteration No. 8\n",
            "Static Model - New 1000 - Precision:  0.9772727272727273   Recall:  0.9090909090909091   F1 Score:  0.8961038961038962\n",
            "Static Model - New 1000 - Precision:  0.9772727272727273   Recall:  0.9090909090909091   F1 Score:  0.8961038961038962\n",
            "Iteration No. 9\n",
            "Static Model - New 1000 - Precision:  0.9800000000000001   Recall:  0.9   F1 Score:  0.888888888888889\n",
            "Static Model - New 1000 - Precision:  1.0   Recall:  1.0   F1 Score:  1.0\n",
            "Iteration No. 10\n",
            "Static Model - New 1000 - Precision:  0.9928571428571429   Recall:  0.9   F1 Score:  0.8962962962962961\n",
            "Static Model - New 1000 - Precision:  0.9911811354791633   Recall:  0.85   F1 Score:  0.8668806802329719\n",
            "Iteration No. 11\n",
            "Static Model - New 1000 - Precision:  1.0   Recall:  1.0   F1 Score:  1.0\n",
            "Static Model - New 1000 - Precision:  1.0   Recall:  1.0   F1 Score:  1.0\n",
            "Iteration No. 12\n",
            "Static Model - New 1000 - Precision:  1.0   Recall:  1.0   F1 Score:  1.0\n",
            "Static Model - New 1000 - Precision:  1.0   Recall:  1.0   F1 Score:  1.0\n",
            "Iteration No. 13\n",
            "Static Model - New 1000 - Precision:  1.0   Recall:  1.0   F1 Score:  1.0\n",
            "Static Model - New 1000 - Precision:  1.0   Recall:  1.0   F1 Score:  1.0\n",
            "Iteration No. 14\n",
            "Static Model - New 1000 - Precision:  1.0   Recall:  1.0   F1 Score:  1.0\n",
            "Static Model - New 1000 - Precision:  1.0   Recall:  1.0   F1 Score:  1.0\n",
            "Iteration No. 15\n",
            "Static Model - New 1000 - Precision:  0.9944444444444445   Recall:  0.9   F1 Score:  0.8971428571428571\n",
            "Static Model - New 1000 - Precision:  0.9944444444444445   Recall:  0.9   F1 Score:  0.8971428571428571\n",
            "Iteration No. 16\n",
            "Static Model - New 1000 - Precision:  0.9941176470588236   Recall:  0.9666666666666666   F1 Score:  0.9769696969696969\n",
            "Static Model - New 1000 - Precision:  0.9941176470588236   Recall:  0.9666666666666666   F1 Score:  0.9769696969696969\n",
            "Iteration No. 17\n",
            "Static Model - New 1000 - Precision:  1.0   Recall:  1.0   F1 Score:  1.0\n",
            "Static Model - New 1000 - Precision:  1.0   Recall:  1.0   F1 Score:  1.0\n",
            "Iteration No. 18\n",
            "Static Model - New 1000 - Precision:  1.0   Recall:  1.0   F1 Score:  1.0\n",
            "Static Model - New 1000 - Precision:  1.0   Recall:  1.0   F1 Score:  1.0\n",
            "Iteration No. 19\n",
            "Static Model - New 1000 - Precision:  0.9954545454545455   Recall:  0.9   F1 Score:  0.8976744186046511\n",
            "Static Model - New 1000 - Precision:  0.9049586776859505   Recall:  0.8181818181818182   F1 Score:  0.7251585623678647\n",
            "Iteration No. 20\n",
            "Static Model - New 1000 - Precision:  1.0   Recall:  1.0   F1 Score:  1.0\n",
            "Static Model - New 1000 - Precision:  1.0   Recall:  1.0   F1 Score:  1.0\n",
            "Iteration No. 21\n",
            "Static Model - New 1000 - Precision:  0.9543364681295716   Recall:  0.8962121212121213   F1 Score:  0.8719643403625842\n",
            "Static Model - New 1000 - Precision:  0.9960031347962383   Recall:  0.8962121212121213   F1 Score:  0.900413727854525\n",
            "Iteration No. 22\n",
            "Static Model - New 1000 - Precision:  0.9800000000000001   Recall:  0.9998866213151928   F1 Score:  0.9888321673914413\n",
            "Static Model - New 1000 - Precision:  0.9800000000000001   Recall:  0.9998866213151928   F1 Score:  0.9888321673914413\n",
            "Iteration No. 23\n",
            "Static Model - New 1000 - Precision:  0.9916666666666666   Recall:  0.9   F1 Score:  0.8956521739130434\n",
            "Static Model - New 1000 - Precision:  0.9916666666666666   Recall:  0.9   F1 Score:  0.8956521739130434\n",
            "Iteration No. 24\n",
            "Static Model - New 1000 - Precision:  0.9943287037037039   Recall:  0.888888888888889   F1 Score:  0.8912026003221207\n",
            "Static Model - New 1000 - Precision:  0.9998842592592592   Recall:  0.9888888888888889   F1 Score:  0.9940597431792636\n",
            "Iteration No. 25\n",
            "Static Model - New 1000 - Precision:  0.9817122271667725   Recall:  0.9008264462809918   F1 Score:  0.8946078864446211\n",
            "Static Model - New 1000 - Precision:  0.9817122271667725   Recall:  0.9008264462809918   F1 Score:  0.8946078864446211\n",
            "Iteration No. 26\n",
            "Static Model - New 1000 - Precision:  1.0   Recall:  1.0   F1 Score:  1.0\n",
            "Static Model - New 1000 - Precision:  0.9938271604938271   Recall:  0.8888888888888888   F1 Score:  0.8857142857142857\n",
            "Iteration No. 27\n",
            "Static Model - New 1000 - Precision:  1.0   Recall:  1.0   F1 Score:  1.0\n",
            "Static Model - New 1000 - Precision:  1.0   Recall:  1.0   F1 Score:  1.0\n",
            "Iteration No. 28\n",
            "Static Model - New 1000 - Precision:  1.0   Recall:  1.0   F1 Score:  1.0\n",
            "Static Model - New 1000 - Precision:  1.0   Recall:  1.0   F1 Score:  1.0\n",
            "Iteration No. 29\n",
            "Static Model - New 1000 - Precision:  1.0   Recall:  1.0   F1 Score:  1.0\n",
            "Static Model - New 1000 - Precision:  1.0   Recall:  1.0   F1 Score:  1.0\n",
            "Iteration No. 30\n",
            "Static Model - New 1000 - Precision:  0.9800000000000001   Recall:  0.95   F1 Score:  0.9555555555555555\n",
            "Static Model - New 1000 - Precision:  0.9800000000000001   Recall:  0.95   F1 Score:  0.9555555555555555\n",
            "Iteration No. 31\n",
            "Static Model - New 1000 - Precision:  0.9566666666666667   Recall:  0.9498838559814169   F1 Score:  0.9413454030194602\n",
            "Static Model - New 1000 - Precision:  0.9566666666666667   Recall:  0.9498838559814169   F1 Score:  0.9413454030194602\n",
            "Iteration No. 32\n",
            "Static Model - New 1000 - Precision:  1.0   Recall:  1.0   F1 Score:  1.0\n",
            "Static Model - New 1000 - Precision:  1.0   Recall:  1.0   F1 Score:  1.0\n",
            "Iteration No. 33\n",
            "Static Model - New 1000 - Precision:  0.9941176470588236   Recall:  0.9998870056497176   F1 Score:  0.9969131678572041\n",
            "Static Model - New 1000 - Precision:  0.9941176470588236   Recall:  0.9998870056497176   F1 Score:  0.9969131678572041\n",
            "Iteration No. 34\n",
            "Static Model - New 1000 - Precision:  0.9998741663520825   Recall:  0.9861111111111112   F1 Score:  0.9925296401217081\n",
            "Static Model - New 1000 - Precision:  0.9998741663520825   Recall:  0.9861111111111112   F1 Score:  0.9925296401217081\n",
            "Iteration No. 35\n",
            "Static Model - New 1000 - Precision:  0.9949999999999999   Recall:  0.9   F1 Score:  0.8974358974358975\n",
            "Static Model - New 1000 - Precision:  0.9949999999999999   Recall:  0.9   F1 Score:  0.8974358974358975\n",
            "Iteration No. 36\n",
            "Static Model - New 1000 - Precision:  1.0   Recall:  1.0   F1 Score:  1.0\n",
            "Static Model - New 1000 - Precision:  0.9923076923076923   Recall:  0.9998834498834498   F1 Score:  0.9959416909620991\n",
            "Iteration No. 37\n",
            "Static Model - New 1000 - Precision:  1.0   Recall:  1.0   F1 Score:  1.0\n",
            "Static Model - New 1000 - Precision:  1.0   Recall:  1.0   F1 Score:  1.0\n",
            "Iteration No. 38\n",
            "Static Model - New 1000 - Precision:  0.99375   Recall:  0.9   F1 Score:  0.8967741935483872\n",
            "Static Model - New 1000 - Precision:  0.99375   Recall:  0.9   F1 Score:  0.8967741935483872\n",
            "Iteration No. 39\n",
            "Static Model - New 1000 - Precision:  0.9832193082478146   Recall:  0.9416666666666667   F1 Score:  0.9531708864231992\n",
            "Static Model - New 1000 - Precision:  0.9833333333333334   Recall:  0.95   F1 Score:  0.9575757575757576\n",
            "Iteration No. 40\n",
            "Static Model - New 1000 - Precision:  1.0   Recall:  1.0   F1 Score:  1.0\n",
            "Static Model - New 1000 - Precision:  1.0   Recall:  1.0   F1 Score:  1.0\n",
            "Iteration No. 41\n",
            "Static Model - New 1000 - Precision:  1.0   Recall:  1.0   F1 Score:  1.0\n",
            "Static Model - New 1000 - Precision:  1.0   Recall:  1.0   F1 Score:  1.0\n",
            "Iteration No. 42\n",
            "Static Model - New 1000 - Precision:  1.0   Recall:  1.0   F1 Score:  1.0\n",
            "Static Model - New 1000 - Precision:  1.0   Recall:  1.0   F1 Score:  1.0\n",
            "Iteration No. 43\n",
            "Static Model - New 1000 - Precision:  0.9632034632034632   Recall:  0.8636363636363636   F1 Score:  0.8572390572390571\n",
            "Static Model - New 1000 - Precision:  0.9632034632034632   Recall:  0.8636363636363636   F1 Score:  0.8572390572390571\n",
            "Iteration No. 44\n",
            "Static Model - New 1000 - Precision:  0.9   Recall:  0.99375   F1 Score:  0.8967741935483872\n",
            "Static Model - New 1000 - Precision:  1.0   Recall:  1.0   F1 Score:  1.0\n",
            "Iteration No. 45\n",
            "Static Model - New 1000 - Precision:  0.9998709510904633   Recall:  0.9944444444444444   F1 Score:  0.9970864352038089\n",
            "Static Model - New 1000 - Precision:  0.9998709510904633   Recall:  0.9944444444444444   F1 Score:  0.9970864352038089\n",
            "Iteration No. 46\n",
            "Static Model - New 1000 - Precision:  1.0   Recall:  1.0   F1 Score:  1.0\n",
            "Static Model - New 1000 - Precision:  1.0   Recall:  1.0   F1 Score:  1.0\n",
            "Iteration No. 47\n",
            "Static Model - New 1000 - Precision:  0.9791666666666667   Recall:  0.8181818181818182   F1 Score:  0.8069848040522527\n",
            "Static Model - New 1000 - Precision:  0.9791666666666667   Recall:  0.8181818181818182   F1 Score:  0.8069848040522527\n",
            "Iteration No. 48\n",
            "Static Model - New 1000 - Precision:  1.0   Recall:  1.0   F1 Score:  1.0\n",
            "Static Model - New 1000 - Precision:  1.0   Recall:  1.0   F1 Score:  1.0\n",
            "Iteration No. 49\n",
            "Static Model - New 1000 - Precision:  0.9986486486486486   Recall:  0.9   F1 Score:  0.8993197278911564\n",
            "Static Model - New 1000 - Precision:  0.9861486486486486   Recall:  0.8998849252013809   F1 Score:  0.8925954907005981\n",
            "Iteration No. 50\n",
            "Static Model - New 1000 - Precision:  0.9890544238370325   Recall:  0.9051383399209485   F1 Score:  0.901501976284585\n",
            "Static Model - New 1000 - Precision:  0.9962121212121212   Recall:  0.9090909090909091   F1 Score:  0.90715667311412\n",
            "Iteration No. 51\n",
            "Static Model - New 1000 - Precision:  0.9998728705822527   Recall:  0.9938271604938271   F1 Score:  0.996761795731458\n",
            "Static Model - New 1000 - Precision:  0.9998728705822527   Recall:  0.9938271604938271   F1 Score:  0.996761795731458\n",
            "Iteration No. 52\n",
            "Static Model - New 1000 - Precision:  1.0   Recall:  1.0   F1 Score:  1.0\n",
            "Static Model - New 1000 - Precision:  1.0   Recall:  1.0   F1 Score:  1.0\n",
            "Iteration No. 53\n",
            "Static Model - New 1000 - Precision:  0.9960000000000001   Recall:  0.9   F1 Score:  0.8979591836734695\n",
            "Static Model - New 1000 - Precision:  0.9960000000000001   Recall:  0.9   F1 Score:  0.8979591836734695\n",
            "Iteration No. 54\n",
            "Static Model - New 1000 - Precision:  0.95   Recall:  0.9944444444444445   F1 Score:  0.9638095238095238\n",
            "Static Model - New 1000 - Precision:  1.0   Recall:  1.0   F1 Score:  1.0\n",
            "Iteration No. 55\n",
            "Static Model - New 1000 - Precision:  0.9954545454545455   Recall:  0.9   F1 Score:  0.8976744186046511\n",
            "Static Model - New 1000 - Precision:  0.9954545454545455   Recall:  0.9   F1 Score:  0.8976744186046511\n",
            "Iteration No. 56\n",
            "Static Model - New 1000 - Precision:  1.0   Recall:  1.0   F1 Score:  1.0\n",
            "Static Model - New 1000 - Precision:  1.0   Recall:  1.0   F1 Score:  1.0\n",
            "Iteration No. 57\n",
            "Static Model - New 1000 - Precision:  1.0   Recall:  1.0   F1 Score:  1.0\n",
            "Static Model - New 1000 - Precision:  1.0   Recall:  1.0   F1 Score:  1.0\n",
            "Iteration No. 58\n",
            "Static Model - New 1000 - Precision:  0.9666666666666666   Recall:  0.95   F1 Score:  0.9466666666666667\n",
            "Static Model - New 1000 - Precision:  1.0   Recall:  1.0   F1 Score:  1.0\n",
            "Iteration No. 59\n",
            "Static Model - New 1000 - Precision:  1.0   Recall:  1.0   F1 Score:  1.0\n",
            "Static Model - New 1000 - Precision:  1.0   Recall:  1.0   F1 Score:  1.0\n",
            "Iteration No. 60\n",
            "Static Model - New 1000 - Precision:  0.878681552365763   Recall:  0.8983957219251337   F1 Score:  0.794264987499335\n",
            "Static Model - New 1000 - Precision:  0.878681552365763   Recall:  0.8983957219251337   F1 Score:  0.794264987499335\n",
            "Iteration No. 61\n",
            "Static Model - New 1000 - Precision:  1.0   Recall:  1.0   F1 Score:  1.0\n",
            "Static Model - New 1000 - Precision:  1.0   Recall:  1.0   F1 Score:  1.0\n",
            "Iteration No. 62\n",
            "Static Model - New 1000 - Precision:  1.0   Recall:  1.0   F1 Score:  1.0\n",
            "Static Model - New 1000 - Precision:  1.0   Recall:  1.0   F1 Score:  1.0\n",
            "Iteration No. 63\n",
            "Static Model - New 1000 - Precision:  1.0   Recall:  1.0   F1 Score:  1.0\n",
            "Static Model - New 1000 - Precision:  1.0   Recall:  1.0   F1 Score:  1.0\n",
            "Iteration No. 64\n",
            "Static Model - New 1000 - Precision:  1.0   Recall:  1.0   F1 Score:  1.0\n",
            "Static Model - New 1000 - Precision:  1.0   Recall:  1.0   F1 Score:  1.0\n",
            "Iteration No. 65\n",
            "Static Model - New 1000 - Precision:  0.99375   Recall:  0.9   F1 Score:  0.8967741935483872\n",
            "Static Model - New 1000 - Precision:  0.99375   Recall:  0.9   F1 Score:  0.8967741935483872\n",
            "Iteration No. 66\n",
            "Static Model - New 1000 - Precision:  0.9861111111111112   Recall:  0.9944444444444444   F1 Score:  0.9897435897435898\n",
            "Static Model - New 1000 - Precision:  1.0   Recall:  1.0   F1 Score:  1.0\n",
            "Iteration No. 67\n",
            "Static Model - New 1000 - Precision:  0.975   Recall:  0.9666666666666666   F1 Score:  0.9657142857142859\n",
            "Static Model - New 1000 - Precision:  1.0   Recall:  1.0   F1 Score:  1.0\n",
            "Iteration No. 68\n",
            "Static Model - New 1000 - Precision:  1.0   Recall:  1.0   F1 Score:  1.0\n",
            "Static Model - New 1000 - Precision:  1.0   Recall:  1.0   F1 Score:  1.0\n",
            "Iteration No. 69\n",
            "Static Model - New 1000 - Precision:  0.9942092154420922   Recall:  0.8636363636363636   F1 Score:  0.8758299172092275\n",
            "Static Model - New 1000 - Precision:  0.9954545454545454   Recall:  0.9545454545454546   F1 Score:  0.9673659673659674\n",
            "Iteration No. 70\n",
            "Static Model - New 1000 - Precision:  1.0   Recall:  1.0   F1 Score:  1.0\n",
            "Static Model - New 1000 - Precision:  0.9714285714285715   Recall:  0.9   F1 Score:  0.8833333333333332\n",
            "Iteration No. 71\n",
            "Static Model - New 1000 - Precision:  1.0   Recall:  1.0   F1 Score:  1.0\n",
            "Static Model - New 1000 - Precision:  0.9898989898989901   Recall:  0.9998731608320648   F1 Score:  0.9946455389059614\n",
            "Iteration No. 72\n",
            "Static Model - New 1000 - Precision:  1.0   Recall:  1.0   F1 Score:  1.0\n",
            "Static Model - New 1000 - Precision:  0.9947368421052631   Recall:  0.9998855835240275   F1 Score:  0.9972400563127524\n",
            "Iteration No. 73\n",
            "Static Model - New 1000 - Precision:  1.0   Recall:  1.0   F1 Score:  1.0\n",
            "Static Model - New 1000 - Precision:  1.0   Recall:  1.0   F1 Score:  1.0\n",
            "Iteration No. 74\n",
            "Static Model - New 1000 - Precision:  1.0   Recall:  1.0   F1 Score:  1.0\n",
            "Static Model - New 1000 - Precision:  0.9998831775700936   Recall:  0.9800000000000001   F1 Score:  0.9888304435352945\n",
            "Iteration No. 75\n",
            "Static Model - New 1000 - Precision:  1.0   Recall:  1.0   F1 Score:  1.0\n",
            "Static Model - New 1000 - Precision:  1.0   Recall:  1.0   F1 Score:  1.0\n",
            "Iteration No. 76\n",
            "Static Model - New 1000 - Precision:  1.0   Recall:  1.0   F1 Score:  1.0\n",
            "Static Model - New 1000 - Precision:  1.0   Recall:  1.0   F1 Score:  1.0\n",
            "Iteration No. 77\n",
            "Static Model - New 1000 - Precision:  1.0   Recall:  1.0   F1 Score:  1.0\n",
            "Static Model - New 1000 - Precision:  1.0   Recall:  1.0   F1 Score:  1.0\n",
            "Iteration No. 78\n",
            "Static Model - New 1000 - Precision:  0.9914529914529915   Recall:  0.8888888888888888   F1 Score:  0.8844444444444445\n",
            "Static Model - New 1000 - Precision:  0.9914529914529915   Recall:  0.8888888888888888   F1 Score:  0.8844444444444445\n",
            "Iteration No. 79\n",
            "Static Model - New 1000 - Precision:  0.9949494949494949   Recall:  0.9090909090909091   F1 Score:  0.9064935064935065\n",
            "Static Model - New 1000 - Precision:  0.9934343434343433   Recall:  0.8181818181818182   F1 Score:  0.8148204736440031\n",
            "Iteration No. 80\n",
            "Static Model - New 1000 - Precision:  0.987012987012987   Recall:  0.990909090909091   F1 Score:  0.9882223040117778\n",
            "Static Model - New 1000 - Precision:  0.987012987012987   Recall:  0.990909090909091   F1 Score:  0.9882223040117778\n",
            "Iteration No. 81\n",
            "Static Model - New 1000 - Precision:  0.9954545454545455   Recall:  0.9   F1 Score:  0.8976744186046511\n",
            "Static Model - New 1000 - Precision:  0.9954545454545455   Recall:  0.9   F1 Score:  0.8976744186046511\n",
            "Iteration No. 82\n",
            "Static Model - New 1000 - Precision:  0.987012987012987   Recall:  0.9545454545454546   F1 Score:  0.9627039627039626\n",
            "Static Model - New 1000 - Precision:  0.987012987012987   Recall:  0.9545454545454546   F1 Score:  0.9627039627039626\n",
            "Iteration No. 83\n",
            "Static Model - New 1000 - Precision:  1.0   Recall:  1.0   F1 Score:  1.0\n",
            "Static Model - New 1000 - Precision:  0.9898989898989901   Recall:  0.9998689727463312   F1 Score:  0.994643442431053\n",
            "Iteration No. 84\n",
            "Static Model - New 1000 - Precision:  0.9998715478484264   Recall:  0.9777777777777779   F1 Score:  0.9875900577654964\n",
            "Static Model - New 1000 - Precision:  1.0   Recall:  1.0   F1 Score:  1.0\n",
            "Iteration No. 85\n",
            "Static Model - New 1000 - Precision:  1.0   Recall:  1.0   F1 Score:  1.0\n",
            "Static Model - New 1000 - Precision:  1.0   Recall:  1.0   F1 Score:  1.0\n",
            "Iteration No. 86\n",
            "Static Model - New 1000 - Precision:  0.999874308697838   Recall:  0.9944444444444444   F1 Score:  0.9970881159336168\n",
            "Static Model - New 1000 - Precision:  0.999874308697838   Recall:  0.9944444444444444   F1 Score:  0.9970881159336168\n",
            "Iteration No. 87\n",
            "Static Model - New 1000 - Precision:  1.0   Recall:  1.0   F1 Score:  1.0\n",
            "Static Model - New 1000 - Precision:  1.0   Recall:  1.0   F1 Score:  1.0\n",
            "Iteration No. 88\n",
            "Static Model - New 1000 - Precision:  1.0   Recall:  1.0   F1 Score:  1.0\n",
            "Static Model - New 1000 - Precision:  1.0   Recall:  1.0   F1 Score:  1.0\n",
            "Iteration No. 89\n",
            "Static Model - New 1000 - Precision:  0.9998686629892304   Recall:  0.9951690821256037   F1 Score:  0.9974651568580212\n",
            "Static Model - New 1000 - Precision:  0.9998686629892304   Recall:  0.9951690821256037   F1 Score:  0.9974651568580212\n",
            "Iteration No. 90\n",
            "Static Model - New 1000 - Precision:  0.98989898989899   Recall:  0.9090909090909091   F1 Score:  0.9037433155080214\n",
            "Static Model - New 1000 - Precision:  0.98989898989899   Recall:  0.9090909090909091   F1 Score:  0.9037433155080214\n",
            "Iteration No. 91\n",
            "Static Model - New 1000 - Precision:  1.0   Recall:  1.0   F1 Score:  1.0\n",
            "Static Model - New 1000 - Precision:  1.0   Recall:  1.0   F1 Score:  1.0\n",
            "Iteration No. 92\n",
            "Static Model - New 1000 - Precision:  1.0   Recall:  1.0   F1 Score:  1.0\n",
            "Static Model - New 1000 - Precision:  1.0   Recall:  1.0   F1 Score:  1.0\n",
            "Iteration No. 93\n",
            "Static Model - New 1000 - Precision:  1.0   Recall:  1.0   F1 Score:  1.0\n",
            "Static Model - New 1000 - Precision:  1.0   Recall:  1.0   F1 Score:  1.0\n",
            "Iteration No. 94\n",
            "Static Model - New 1000 - Precision:  1.0   Recall:  1.0   F1 Score:  1.0\n",
            "Static Model - New 1000 - Precision:  1.0   Recall:  1.0   F1 Score:  1.0\n",
            "Iteration No. 95\n",
            "Static Model - New 1000 - Precision:  0.9997422015983501   Recall:  0.9907715023994095   F1 Score:  0.9951059521734176\n",
            "Static Model - New 1000 - Precision:  0.9997422015983501   Recall:  0.9907715023994095   F1 Score:  0.9951059521734176\n",
            "Iteration No. 96\n",
            "Static Model - New 1000 - Precision:  0.9947368421052631   Recall:  0.9   F1 Score:  0.8972972972972972\n",
            "Static Model - New 1000 - Precision:  0.9947368421052631   Recall:  0.9   F1 Score:  0.8972972972972972\n",
            "Iteration No. 97\n",
            "Static Model - New 1000 - Precision:  1.0   Recall:  1.0   F1 Score:  1.0\n",
            "Static Model - New 1000 - Precision:  1.0   Recall:  1.0   F1 Score:  1.0\n",
            "Iteration No. 98\n",
            "Static Model - New 1000 - Precision:  1.0   Recall:  1.0   F1 Score:  1.0\n",
            "Static Model - New 1000 - Precision:  1.0   Recall:  1.0   F1 Score:  1.0\n",
            "Iteration No. 99\n",
            "Static Model - New 1000 - Precision:  1.0   Recall:  1.0   F1 Score:  1.0\n",
            "Static Model - New 1000 - Precision:  1.0   Recall:  1.0   F1 Score:  1.0\n"
          ]
        }
      ]
    },
    {
      "cell_type": "markdown",
      "metadata": {
        "id": "We0aJWe0aZBv"
      },
      "source": [
        "## Plotting the results"
      ]
    },
    {
      "cell_type": "code",
      "metadata": {
        "colab": {
          "base_uri": "https://localhost:8080/",
          "height": 404
        },
        "id": "qE9hNPL1KkLx",
        "outputId": "e2662cb3-1273-4ffb-c8f4-804dd44dd19f"
      },
      "source": [
        "figure(figsize=(15, 6))\n",
        "x_axis = list(range(0,99))\n",
        "\n",
        "plt.plot(x_axis, np.array(static_scores)[:,2], label='Static model scores')\n",
        "plt.plot(x_axis, np.array(dynamic_scores)[:,2],linestyle='dashed' , label='Dynamic model scores')\n",
        "\n",
        "plt.title(\"Scores over Iterations\")\n",
        "plt.xlabel(\"Iteration Number\")\n",
        "plt.ylabel(\"F1 Score\")\n",
        "plt.xticks(list(range(0,99,2)))\n",
        "plt.legend()\n",
        "plt.show()"
      ],
      "execution_count": 57,
      "outputs": [
        {
          "output_type": "display_data",
          "data": {
            "image/png": "[encoded data removed]",
            "text/plain": [
              "<Figure size 1080x432 with 1 Axes>"
            ]
          },
          "metadata": {
            "needs_background": "light"
          }
        }
      ]
    },
    {
      "cell_type": "markdown",
      "metadata": {
        "id": "MJUqcQ-EsyT2"
      },
      "source": [
        "The average of all iterations precision, recall and F1 scores.\n",
        "\n"
      ]
    },
    {
      "cell_type": "code",
      "metadata": {
        "colab": {
          "base_uri": "https://localhost:8080/"
        },
        "id": "H2KlSSrEIXTy",
        "outputId": "1740dd5d-f3ea-4cd5-fc10-7c935e7c17cf"
      },
      "source": [
        "static_avg_precision = np.array(static_scores)[:,0].mean()\n",
        "static_avg_recall = np.array(static_scores)[:,1].mean()\n",
        "stativ_avg_f1_score = np.array(static_scores)[:,2].mean()\n",
        "\n",
        "dynamic_avg_precision = np.array(dynamic_scores)[:,0].mean()\n",
        "dynamic_avg_recall = np.array(dynamic_scores)[:,1].mean()\n",
        "dynamic_avg_f1_score = np.array(dynamic_scores)[:,2].mean()\n",
        "\n",
        "print('Static Model average precision: ',static_avg_precision,' average recall: ',static_avg_recall,' average f1_score: ',stativ_avg_f1_score)\n",
        "print('Dynamic Model average precision: ',dynamic_avg_precision,' average recall: ',dynamic_avg_recall,' average f1_score: ',dynamic_avg_f1_score)"
      ],
      "execution_count": 58,
      "outputs": [
        {
          "output_type": "stream",
          "name": "stdout",
          "text": [
            "Static Model average precision:  0.9918517719467618  average recall:  0.964516481774628  average f1_score:  0.9613635495190552\n",
            "Dynamic Model average precision:  0.993101983741898  average recall:  0.9641293036779405  average f1_score:  0.9616505702001719\n"
          ]
        }
      ]
    },
    {
      "cell_type": "code",
      "metadata": {
        "id": "_d9AY8yoEHz6"
      },
      "source": [
        ""
      ],
      "execution_count": 58,
      "outputs": []
    }
  ]
}